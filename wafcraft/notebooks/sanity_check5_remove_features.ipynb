{
 "cells": [
  {
   "cell_type": "code",
   "execution_count": 46,
   "metadata": {},
   "outputs": [],
   "source": [
    "from sklearn.ensemble import RandomForestClassifier\n",
    "import numpy as np\n",
    "from random import sample\n",
    "\n",
    "from src.utils import get_rules_list\n",
    "from src.utils import load_data_label_vector"
   ]
  },
  {
   "cell_type": "code",
   "execution_count": 47,
   "metadata": {},
   "outputs": [],
   "source": [
    "# Get data\n",
    "import pandas as pd\n",
    "\n",
    "\n",
    "# train = load_data_label_vector(\"train.csv\")\n",
    "# test = load_data_label_vector(\"test.csv\")\n",
    "\n",
    "train = load_data_label_vector(\"/app/wafcraft/data/prepared/2024-06-09_20-11-04_lightslategray-them/train.csv\")\n",
    "test = load_data_label_vector(\"/app/wafcraft/data/prepared/2024-06-09_20-11-04_lightslategray-them/test.csv\")\n",
    "\n",
    "# test = pd.concat(\n",
    "#     [\n",
    "#         load_data_label_vector(\n",
    "#             \"/app/wafcraft/data/prepared/2024-04-07_18-15-53_brown-lot/test_adv.csv\"\n",
    "#         ),\n",
    "#         load_data_label_vector(\n",
    "#             \"/app/wafcraft/data/prepared/2024-04-07_18-15-53_brown-lot/test.csv\"\n",
    "#         ),\n",
    "#     ],\n",
    "#     ignore_index=True,\n",
    "# )"
   ]
  },
  {
   "cell_type": "code",
   "execution_count": 48,
   "metadata": {},
   "outputs": [
    {
     "name": "stdout",
     "output_type": "stream",
     "text": [
      "(20000, 3)\n",
      "(4000, 3)\n",
      "train with label 1\n",
      "(10000, 3)\n",
      "train with label 0\n",
      "(10000, 3)\n",
      "test with label 1\n",
      "(2000, 3)\n",
      "test with label 0\n",
      "(2000, 3)\n",
      "overlap\n",
      "(1, 5)\n"
     ]
    }
   ],
   "source": [
    "# print data info\n",
    "\n",
    "print(train.shape)\n",
    "print(test.shape)\n",
    "\n",
    "# print how many are in train with label 1\n",
    "print(\"train with label 1\")\n",
    "print(train[train[\"label\"] == 1].shape)\n",
    "print(\"train with label 0\")\n",
    "print(train[train[\"label\"] == 0].shape)\n",
    "\n",
    "print(\"test with label 1\")\n",
    "print(test[test[\"label\"] == 1].shape)\n",
    "print(\"test with label 0\")\n",
    "print(test[test[\"label\"] == 0].shape)\n",
    "\n",
    "# check how much train and test overlap on the same data columns\n",
    "print(\"overlap\")\n",
    "\n",
    "\n",
    "overlap = pd.merge(test, train, how=\"inner\", on=[\"data\"])\n",
    "print(overlap.shape)\n",
    "# print(overlap.head())"
   ]
  },
  {
   "cell_type": "code",
   "execution_count": 49,
   "metadata": {},
   "outputs": [
    {
     "name": "stdout",
     "output_type": "stream",
     "text": [
      "[43, 37, 22, 53, 50, 46, 47, 33, 8, 34, 21, 15]\n",
      "12\n",
      "features still: 57\n"
     ]
    }
   ],
   "source": [
    "# remove some features (simulating the paper's feature space)\n",
    "\n",
    "\n",
    "# remove_feature_ids = sample(range(0, 61), 0)\n",
    "remove_feature_ids = [43, 37, 22, 53, 50, 46, 47, 33, 8, 34, 21, 15]\n",
    "# remove_feature_ids = []\n",
    "print(remove_feature_ids)\n",
    "print(len(remove_feature_ids))\n",
    "print(f\"features still: {len(train.iloc[1]['vector']) - len(remove_feature_ids)}\")\n",
    "\n",
    "def setzero(vector, i):\n",
    "    vector[i] = 0\n",
    "    return vector\n",
    "\n",
    "for i in remove_feature_ids:\n",
    "    train[\"vector\"] = train[\"vector\"].apply(lambda x: setzero(x, i))\n",
    "\n",
    "for i in remove_feature_ids:\n",
    "    test[\"vector\"] = test[\"vector\"].apply(lambda x: setzero(x, i))"
   ]
  },
  {
   "cell_type": "code",
   "execution_count": 50,
   "metadata": {},
   "outputs": [
    {
     "name": "stdout",
     "output_type": "stream",
     "text": [
      "[0. 0. 0. 0. 0. 0. 0. 0. 0. 0. 1. 1. 0. 1. 1. 0. 0. 0. 1. 0. 1. 0. 0. 1.\n",
      " 0. 0. 0. 0. 0. 1. 1. 1. 0. 0. 0. 0. 0. 0. 0. 1. 1. 0. 1. 0. 1. 1. 0. 0.\n",
      " 0. 0. 0. 1. 1. 0. 0. 1. 0. 1. 1. 0. 1. 1. 1. 0. 0. 1. 1. 0. 0.]\n"
     ]
    }
   ],
   "source": [
    "print(train[\"vector\"][0])"
   ]
  },
  {
   "cell_type": "code",
   "execution_count": 51,
   "metadata": {},
   "outputs": [
    {
     "data": {
      "text/html": [
       "<style>#sk-container-id-5 {color: black;}#sk-container-id-5 pre{padding: 0;}#sk-container-id-5 div.sk-toggleable {background-color: white;}#sk-container-id-5 label.sk-toggleable__label {cursor: pointer;display: block;width: 100%;margin-bottom: 0;padding: 0.3em;box-sizing: border-box;text-align: center;}#sk-container-id-5 label.sk-toggleable__label-arrow:before {content: \"▸\";float: left;margin-right: 0.25em;color: #696969;}#sk-container-id-5 label.sk-toggleable__label-arrow:hover:before {color: black;}#sk-container-id-5 div.sk-estimator:hover label.sk-toggleable__label-arrow:before {color: black;}#sk-container-id-5 div.sk-toggleable__content {max-height: 0;max-width: 0;overflow: hidden;text-align: left;background-color: #f0f8ff;}#sk-container-id-5 div.sk-toggleable__content pre {margin: 0.2em;color: black;border-radius: 0.25em;background-color: #f0f8ff;}#sk-container-id-5 input.sk-toggleable__control:checked~div.sk-toggleable__content {max-height: 200px;max-width: 100%;overflow: auto;}#sk-container-id-5 input.sk-toggleable__control:checked~label.sk-toggleable__label-arrow:before {content: \"▾\";}#sk-container-id-5 div.sk-estimator input.sk-toggleable__control:checked~label.sk-toggleable__label {background-color: #d4ebff;}#sk-container-id-5 div.sk-label input.sk-toggleable__control:checked~label.sk-toggleable__label {background-color: #d4ebff;}#sk-container-id-5 input.sk-hidden--visually {border: 0;clip: rect(1px 1px 1px 1px);clip: rect(1px, 1px, 1px, 1px);height: 1px;margin: -1px;overflow: hidden;padding: 0;position: absolute;width: 1px;}#sk-container-id-5 div.sk-estimator {font-family: monospace;background-color: #f0f8ff;border: 1px dotted black;border-radius: 0.25em;box-sizing: border-box;margin-bottom: 0.5em;}#sk-container-id-5 div.sk-estimator:hover {background-color: #d4ebff;}#sk-container-id-5 div.sk-parallel-item::after {content: \"\";width: 100%;border-bottom: 1px solid gray;flex-grow: 1;}#sk-container-id-5 div.sk-label:hover label.sk-toggleable__label {background-color: #d4ebff;}#sk-container-id-5 div.sk-serial::before {content: \"\";position: absolute;border-left: 1px solid gray;box-sizing: border-box;top: 0;bottom: 0;left: 50%;z-index: 0;}#sk-container-id-5 div.sk-serial {display: flex;flex-direction: column;align-items: center;background-color: white;padding-right: 0.2em;padding-left: 0.2em;position: relative;}#sk-container-id-5 div.sk-item {position: relative;z-index: 1;}#sk-container-id-5 div.sk-parallel {display: flex;align-items: stretch;justify-content: center;background-color: white;position: relative;}#sk-container-id-5 div.sk-item::before, #sk-container-id-5 div.sk-parallel-item::before {content: \"\";position: absolute;border-left: 1px solid gray;box-sizing: border-box;top: 0;bottom: 0;left: 50%;z-index: -1;}#sk-container-id-5 div.sk-parallel-item {display: flex;flex-direction: column;z-index: 1;position: relative;background-color: white;}#sk-container-id-5 div.sk-parallel-item:first-child::after {align-self: flex-end;width: 50%;}#sk-container-id-5 div.sk-parallel-item:last-child::after {align-self: flex-start;width: 50%;}#sk-container-id-5 div.sk-parallel-item:only-child::after {width: 0;}#sk-container-id-5 div.sk-dashed-wrapped {border: 1px dashed gray;margin: 0 0.4em 0.5em 0.4em;box-sizing: border-box;padding-bottom: 0.4em;background-color: white;}#sk-container-id-5 div.sk-label label {font-family: monospace;font-weight: bold;display: inline-block;line-height: 1.2em;}#sk-container-id-5 div.sk-label-container {text-align: center;}#sk-container-id-5 div.sk-container {/* jupyter's `normalize.less` sets `[hidden] { display: none; }` but bootstrap.min.css set `[hidden] { display: none !important; }` so we also need the `!important` here to be able to override the default hidden behavior on the sphinx rendered scikit-learn.org. See: https://github.com/scikit-learn/scikit-learn/issues/21755 */display: inline-block !important;position: relative;}#sk-container-id-5 div.sk-text-repr-fallback {display: none;}</style><div id=\"sk-container-id-5\" class=\"sk-top-container\"><div class=\"sk-text-repr-fallback\"><pre>RandomForestClassifier()</pre><b>In a Jupyter environment, please rerun this cell to show the HTML representation or trust the notebook. <br />On GitHub, the HTML representation is unable to render, please try loading this page with nbviewer.org.</b></div><div class=\"sk-container\" hidden><div class=\"sk-item\"><div class=\"sk-estimator sk-toggleable\"><input class=\"sk-toggleable__control sk-hidden--visually\" id=\"sk-estimator-id-5\" type=\"checkbox\" checked><label for=\"sk-estimator-id-5\" class=\"sk-toggleable__label sk-toggleable__label-arrow\">RandomForestClassifier</label><div class=\"sk-toggleable__content\"><pre>RandomForestClassifier()</pre></div></div></div></div></div>"
      ],
      "text/plain": [
       "RandomForestClassifier()"
      ]
     },
     "execution_count": 51,
     "metadata": {},
     "output_type": "execute_result"
    }
   ],
   "source": [
    "# train model\n",
    "X_train, y_train = list(train[\"vector\"]), train[\"label\"]\n",
    "X_test, y_test = list(test[\"vector\"]), test[\"label\"]\n",
    "\n",
    "model = RandomForestClassifier()\n",
    "\n",
    "model.fit(X_train, y_train)"
   ]
  },
  {
   "cell_type": "code",
   "execution_count": 52,
   "metadata": {},
   "outputs": [
    {
     "name": "stdout",
     "output_type": "stream",
     "text": [
      "TPR: 0.895\n",
      "FPR: 0.0095\n"
     ]
    }
   ],
   "source": [
    "# Evaluate check model TPR at desired FPR\n",
    "# calculate TPR at desired FPR\n",
    "from sklearn.metrics import confusion_matrix, roc_curve\n",
    "\n",
    "\n",
    "probabilities = model.predict_proba(X_test)[:, 1]\n",
    "\n",
    "fpr, tpr, thresholds = roc_curve(y_test, probabilities)  # plot ROC curve\n",
    "closest_idx = np.argmin(np.abs(fpr - 0.01))  # threshold closest to FPR\n",
    "threshold = thresholds[closest_idx]\n",
    "adjusted_predictions = (probabilities >= threshold).astype(int)  #  new preds\n",
    "\n",
    "cm = confusion_matrix(y_test, adjusted_predictions)\n",
    "\n",
    "tn, fp, fn, tp = cm.ravel()\n",
    "\n",
    "tpr = tp / (tp + fn)\n",
    "fpr = fp / (fp + tn)\n",
    "\n",
    "print(f\"TPR: {tpr}\")\n",
    "print(f\"FPR: {fpr}\")"
   ]
  }
 ],
 "metadata": {
  "kernelspec": {
   "display_name": "Python 3 (ipykernel)",
   "language": "python",
   "name": "python3"
  },
  "language_info": {
   "codemirror_mode": {
    "name": "ipython",
    "version": 3
   },
   "file_extension": ".py",
   "mimetype": "text/x-python",
   "name": "python",
   "nbconvert_exporter": "python",
   "pygments_lexer": "ipython3",
   "version": "3.8.19"
  }
 },
 "nbformat": 4,
 "nbformat_minor": 2
}
