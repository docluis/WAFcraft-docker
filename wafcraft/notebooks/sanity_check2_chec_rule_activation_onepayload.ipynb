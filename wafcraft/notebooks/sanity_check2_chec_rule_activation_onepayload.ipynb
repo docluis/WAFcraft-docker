{
 "cells": [
  {
   "cell_type": "code",
   "execution_count": 203,
   "metadata": {},
   "outputs": [],
   "source": [
    "import pandas as pd\n",
    "import base64\n",
    "\n",
    "from src.utils import load_data_label_vector"
   ]
  },
  {
   "cell_type": "code",
   "execution_count": 204,
   "metadata": {},
   "outputs": [
    {
     "name": "stdout",
     "output_type": "stream",
     "text": [
      "Rule IDs: ['942011', '942012', '942013', '942014', '942015', '942016', '942017', '942018', '942100', '942101', '942110', '942120', '942130', '942131', '942140', '942150', '942151', '942152', '942160', '942170', '942180', '942190', '942200', '942210', '942220', '942230', '942240', '942250', '942251', '942260', '942270', '942280', '942290', '942300', '942310', '942320', '942321', '942330', '942340', '942350', '942360', '942361', '942362', '942370', '942380', '942390', '942400', '942410', '942420', '942421', '942430', '942431', '942432', '942440', '942450', '942460', '942470', '942480', '942490', '942500', '942510', '942511', '942520', '942521', '942522', '942530', '942540', '942550', '942560']\n"
     ]
    }
   ],
   "source": [
    "rule_ids = ['942011', '942012', '942013', '942014', '942015', '942016', '942017', '942018', '942100', '942101', '942110', '942120', '942130', '942131', '942140', '942150', '942151', '942152', '942160', '942170', '942180', '942190', '942200', '942210', '942220', '942230', '942240', '942250', '942251', '942260', '942270', '942280', '942290', '942300', '942310', '942320', '942321', '942330', '942340', '942350', '942360', '942361', '942362', '942370', '942380', '942390', '942400', '942410', '942420', '942421', '942430', '942431', '942432', '942440', '942450', '942460', '942470', '942480', '942490', '942500', '942510', '942511', '942520', '942521', '942522', '942530', '942540', '942550', '942560']\n",
    "print(f\"Rule IDs: {rule_ids}\")"
   ]
  },
  {
   "cell_type": "code",
   "execution_count": 205,
   "metadata": {},
   "outputs": [
    {
     "name": "stdout",
     "output_type": "stream",
     "text": [
      "Label: attack\n",
      "Data (base64): REVMRVRFIEZST00gYHRhYmAgV0hFUkUgYGNvbDFgIExJS0UgIiUnbCclIiBBTkQgYGNvbDNgIExJS0UgIiUnYSclIiBMSU1JVCAnIikpKSBBTkQgMzUyNj0oU0VMRUNUIENPVU5UKCopIEZST00gUkRCJEZJRUxEUyBBUyBUMSxSREIkVFlQRVMgQVMgVDIsUkRCJENPTExBVElPTlMgQVMgVDMsUkRCJEZVTkNUSU9OUyBBUyBUNCktLSc7\n",
      "Data (unbase64): b'DELETE FROM `tab` WHERE `col1` LIKE \"%\\'l\\'%\" AND `col3` LIKE \"%\\'a\\'%\" LIMIT \\'\"))) AND 3526=(SELECT COUNT(*) FROM RDB$FIELDS AS T1,RDB$TYPES AS T2,RDB$COLLATIONS AS T3,RDB$FUNCTIONS AS T4)--\\';'\n",
      "Active rules: 20\n",
      "942100\n",
      "942150\n",
      "942180\n",
      "942200\n",
      "942210\n",
      "942260\n",
      "942290\n",
      "942310\n",
      "942370\n",
      "942380\n",
      "942400\n",
      "942410\n",
      "942430\n",
      "942431\n",
      "942432\n",
      "942460\n",
      "942480\n",
      "942510\n",
      "942520\n",
      "942530\n"
     ]
    }
   ],
   "source": [
    "data = load_data_label_vector(\"/app/wafcraft/data/prepared/2024-04-18_14-12-51_lightblue-around/test.csv\")\n",
    "\n",
    "random_entry = data.sample(1).iloc[0]\n",
    "\n",
    "print(f\"Label: {'attack' if random_entry['label'] == 1 else 'normal'}\")\n",
    "print(f\"Data (base64): {random_entry['data']}\")\n",
    "print(f\"Data (unbase64): {base64.b64decode(random_entry['data'])}\")\n",
    "# print(f\"Vector (list): {list(random_entry['vector'])}\")\n",
    "\n",
    "# # find the active rules, eg. where the vector is 1\n",
    "active_rules = [rule_ids[i] for i, v in enumerate(random_entry['vector']) if v == 1]\n",
    "print(f\"Active rules: {len(active_rules)}\")\n",
    "# print active rules, each on a new line\n",
    "for rule in active_rules:\n",
    "    print(rule)\n"
   ]
  },
  {
   "cell_type": "code",
   "execution_count": 206,
   "metadata": {},
   "outputs": [
    {
     "name": "stdout",
     "output_type": "stream",
     "text": [
      "[0 0 0 0 0 0 0 0 1 0 0 0 0 0 0 1 0 0 0 0 1 0 1 1 0 0 0 0 0 1 0 0 1 0 1 0 0\n",
      " 0 0 0 0 0 0 1 1 0 1 1 0 0 1 1 1 0 0 1 0 1 0 0 1 0 1 0 0 1 0 0 0]\n",
      "Active rules: 20\n",
      "942100\n",
      "942150\n",
      "942180\n",
      "942200\n",
      "942210\n",
      "942260\n",
      "942290\n",
      "942310\n",
      "942370\n",
      "942380\n",
      "942400\n",
      "942410\n",
      "942430\n",
      "942431\n",
      "942432\n",
      "942460\n",
      "942480\n",
      "942510\n",
      "942520\n",
      "942530\n",
      "1.0\n"
     ]
    }
   ],
   "source": [
    "import joblib\n",
    "\n",
    "from src.model import create_wafamole_model\n",
    "from src.modsec import init_modsec\n",
    "\n",
    "modsec = init_modsec()\n",
    "model = joblib.load(\n",
    "    \"/app/wafcraft/data/prepared/2024-04-07_18-15-53_brown-lot/model_adv/model_adv.joblib\"\n",
    ")\n",
    "wafamole_model = create_wafamole_model(model, modsec, rule_ids, 4)\n",
    "\n",
    "# weird_payload = b\"SELECT `col2`, `col2`, `col2`, `col3` FROM `tab` WHERE `col1` LIKE \\\"%'ujsanclkmksqiopdfyvpqzizzzuq'%\\\" LIMIT -2078343168,-910688256;\"\n",
    "# calc_vec = wafamole_model.extract_features(weird_payload.decode(\"utf-8\"))\n",
    "\n",
    "calc_vec = wafamole_model.extract_features(\n",
    "    base64.b64decode(random_entry[\"data\"]).decode(\"utf-8\")\n",
    ")\n",
    "print(calc_vec)\n",
    "active_rules2 = [rule_ids[i] for i, v in enumerate(calc_vec) if v == 1]\n",
    "print(f\"Active rules: {len(active_rules2)}\")\n",
    "# print active rules, each on a new line\n",
    "for rule in active_rules2:\n",
    "    print(rule)\n",
    "print(wafamole_model.classify(base64.b64decode(random_entry[\"data\"]).decode(\"utf-8\")))"
   ]
  }
 ],
 "metadata": {
  "kernelspec": {
   "display_name": "Python 3 (ipykernel)",
   "language": "python",
   "name": "python3"
  },
  "language_info": {
   "codemirror_mode": {
    "name": "ipython",
    "version": 3
   },
   "file_extension": ".py",
   "mimetype": "text/x-python",
   "name": "python",
   "nbconvert_exporter": "python",
   "pygments_lexer": "ipython3",
   "version": "3.8.19"
  }
 },
 "nbformat": 4,
 "nbformat_minor": 2
}
