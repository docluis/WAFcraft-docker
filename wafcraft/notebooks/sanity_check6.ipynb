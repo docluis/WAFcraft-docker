{
 "cells": [
  {
   "cell_type": "code",
   "execution_count": 21,
   "metadata": {},
   "outputs": [],
   "source": [
    "# Sanity Check, see model performance, without using preprocessing\n",
    "# i.e. do not extract the activation vector, instead just use raw\n",
    "# sql payloads as input to the model"
   ]
  },
  {
   "cell_type": "code",
   "execution_count": 22,
   "metadata": {},
   "outputs": [
    {
     "name": "stdout",
     "output_type": "stream",
     "text": [
      "(6483, 1)\n",
      "(6518, 1)\n"
     ]
    }
   ],
   "source": [
    "# load data\n",
    "import pandas as pd\n",
    "from src.utils import read_and_parse_sql\n",
    "\n",
    "attacks = read_and_parse_sql(\"data/raw/attacks_20k.sql\")\n",
    "print(attacks.shape)\n",
    "attacks[\"label\"] = 1\n",
    "sanes = read_and_parse_sql(\"data/raw/sanes_20k.sql\")\n",
    "print(sanes.shape)\n",
    "sanes[\"label\"] = 0"
   ]
  },
  {
   "cell_type": "code",
   "execution_count": 23,
   "metadata": {},
   "outputs": [],
   "source": [
    "# sample test set\n",
    "test_attacks = attacks.sample(n=2000)\n",
    "test_sanes = sanes.sample(n=2000)\n",
    "\n",
    "test = pd.concat([test_attacks, test_sanes]).sample(frac=1).reset_index(drop=True)\n",
    "\n",
    "del attacks\n",
    "del sanes"
   ]
  },
  {
   "cell_type": "code",
   "execution_count": 24,
   "metadata": {},
   "outputs": [],
   "source": [
    "rule_ids = ['942011', '942012', '942013', '942014', '942015', '942016', '942017', '942018', '942100', '942101', '942110', '942120', '942130', '942131', '942140', '942150', '942151', '942152', '942160', '942170', '942180', '942190', '942200', '942210', '942220', '942230', '942240', '942250', '942251', '942260', '942270', '942280', '942290', '942300', '942310', '942320', '942321', '942330', '942340', '942350', '942360', '942361', '942362', '942370', '942380', '942390', '942400', '942410', '942420', '942421', '942430', '942431', '942432', '942440', '942450', '942460', '942470', '942480', '942490', '942500', '942510', '942511', '942520', '942521', '942522', '942530', '942540', '942550', '942560']"
   ]
  },
  {
   "cell_type": "code",
   "execution_count": 25,
   "metadata": {},
   "outputs": [],
   "source": [
    "# load model and threshold\n",
    "import joblib\n",
    "from src.model import create_wafamole_model\n",
    "from src.modsec import init_modsec\n",
    "\n",
    "workspace = \"/app/wafcraft/data/prepared/2024-04-07_18-15-53_brown-lot\"\n",
    "\n",
    "threshold = float(open(f\"{workspace}/model/threshold.txt\", \"r\").read())\n",
    "\n",
    "modsec = init_modsec()\n",
    "model = joblib.load(f\"{workspace}/model/model.joblib\")\n",
    "wafamole_model = create_wafamole_model(model, modsec, rule_ids, 4)"
   ]
  },
  {
   "cell_type": "code",
   "execution_count": 28,
   "metadata": {},
   "outputs": [
    {
     "name": "stderr",
     "output_type": "stream",
     "text": [
      " 47%|████▋     | 1867/4000 [02:40<04:06,  8.65it/s]"
     ]
    }
   ],
   "source": [
    "# get predictions (confidences)\n",
    "import base64\n",
    "from tqdm import tqdm\n",
    "\n",
    "preds = []\n",
    "for i, row in tqdm(test.iterrows(), total=len(test)):\n",
    "    payload_b64 = row[\"data\"]\n",
    "    payload = base64.b64decode(payload_b64)\n",
    "    label = row[\"label\"]\n",
    "    confidence_is_attack = wafamole_model.classify(payload.decode(\"utf-8\"))\n",
    "    preds.append((label, confidence_is_attack))"
   ]
  },
  {
   "cell_type": "code",
   "execution_count": null,
   "metadata": {},
   "outputs": [],
   "source": [
    "# evaluate tpr and fpr\n",
    "from sklearn.metrics import confusion_matrix\n",
    "import numpy as np\n",
    "\n",
    "labels, confidences = zip(*preds)\n",
    "labels = np.array(labels)\n",
    "confidences = np.array(confidences)\n",
    "predictions = (confidences >= threshold).astype(int)\n",
    "\n",
    "tn, fp, fn, tp = confusion_matrix(labels, predictions).ravel()\n",
    "tpr = tp / (tp + fn)\n",
    "fpr = fp / (fp + tn)\n",
    "\n",
    "print(f\"TPR: {tpr}\")\n",
    "print(f\"FPR: {fpr}\")"
   ]
  }
 ],
 "metadata": {
  "kernelspec": {
   "display_name": "Python 3 (ipykernel)",
   "language": "python",
   "name": "python3"
  },
  "language_info": {
   "codemirror_mode": {
    "name": "ipython",
    "version": 3
   },
   "file_extension": ".py",
   "mimetype": "text/x-python",
   "name": "python",
   "nbconvert_exporter": "python",
   "pygments_lexer": "ipython3",
   "version": "3.8.19"
  }
 },
 "nbformat": 4,
 "nbformat_minor": 2
}
