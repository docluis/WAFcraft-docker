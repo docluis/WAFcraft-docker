{
 "cells": [
  {
   "cell_type": "code",
   "execution_count": 75,
   "metadata": {},
   "outputs": [],
   "source": [
    "# Get some information about a dataset\n",
    "import os"
   ]
  },
  {
   "cell_type": "code",
   "execution_count": 76,
   "metadata": {},
   "outputs": [
    {
     "name": "stdout",
     "output_type": "stream",
     "text": [
      "Test:  (4000, 3)\n",
      "(attacks 2000, sanes 2000)\n",
      "Train:  (20000, 3)\n",
      "(attacks 10000, sanes 10000)\n",
      "Test: \n",
      "                                                 data  label  \\\n",
      "0  VVBEQVRFIGB0YWJgIFNFVCBgY29sMmAgPSAxIFdIRVJFIG...      1   \n",
      "1  VVBEQVRFIGB0YWJgIFNFVCBgY29sMWAgPSAxIFdIRVJFIG...      1   \n",
      "2  SU5TRVJUIElOVE8gYHRhYmAgKCBgY29sMWAgKSBWQUxVRV...      0   \n",
      "3  REVMRVRFIEZST00gYHRhYmAgV0hFUkUgYGNvbDNgIExJS0...      1   \n",
      "4  VVBEQVRFIGB0YWJgIFNFVCBgY29sMWAgPSAyIFdIRVJFIG...      1   \n",
      "\n",
      "                                              vector  \n",
      "0  [0.0, 0.0, 0.0, 0.0, 0.0, 0.0, 0.0, 0.0, 1.0, ...  \n",
      "1  [0.0, 0.0, 0.0, 0.0, 0.0, 0.0, 0.0, 0.0, 0.0, ...  \n",
      "2  [0.0, 0.0, 0.0, 0.0, 0.0, 0.0, 0.0, 0.0, 0.0, ...  \n",
      "3  [0.0, 0.0, 0.0, 0.0, 0.0, 0.0, 0.0, 0.0, 0.0, ...  \n",
      "4  [0.0, 0.0, 0.0, 0.0, 0.0, 0.0, 0.0, 0.0, 0.0, ...  \n",
      "\n",
      "Train: \n",
      "                                                 data  label  \\\n",
      "0  SU5TRVJUIElOVE8gYHRhYmAgKCBgY29sMmAsIGBjb2wzYC...      0   \n",
      "1  VVBEQVRFIGB0YWJgIFNFVCBgY29sM2AgPSA4IFdIRVJFIG...      1   \n",
      "2  REVMRVRFIEZST00gYHRhYmAgV0hFUkUgYGNvbDFgID49IC...      0   \n",
      "3  U0VMRUNUIGBjb2wzYCwgYGNvbDNgLCBgY29sM2AgRlJPTS...      0   \n",
      "4  SU5TRVJUIElOVE8gYHRhYmAgKCBgY29sMWAsIGBjb2wzYC...      0   \n",
      "\n",
      "                                              vector  \n",
      "0  [0.0, 0.0, 0.0, 0.0, 0.0, 0.0, 0.0, 0.0, 0.0, ...  \n",
      "1  [0.0, 0.0, 0.0, 0.0, 0.0, 0.0, 0.0, 0.0, 1.0, ...  \n",
      "2  [0.0, 0.0, 0.0, 0.0, 0.0, 0.0, 0.0, 0.0, 0.0, ...  \n",
      "3  [0.0, 0.0, 0.0, 0.0, 0.0, 0.0, 0.0, 0.0, 1.0, ...  \n",
      "4  [0.0, 0.0, 0.0, 0.0, 0.0, 0.0, 0.0, 0.0, 0.0, ...  \n"
     ]
    }
   ],
   "source": [
    "from src.utils import load_data_label_vector\n",
    "\n",
    "workspace = \"2024-04-07_18-15-53_brown-lot\"\n",
    "# workspace = \"2024-04-18_14-12-51_lightblue-around\"\n",
    "# workspace = \"2024-04-22_11-20-36_yellow-majority\"\n",
    "# workspace = \"2024-05-10_15-03-09_darkred-number\"\n",
    "# workspace = \"2024-06-09_13-38-16_whitesmoke-growth\"\n",
    "# workspace = \"2024-06-09_13-52-08_lightcoral-while\"\n",
    "# workspace = \"2024-06-09_20-11-04_lightslategray-them\"\n",
    "# workspace = \"2024-06-10_06-22-11_magenta-live\"\n",
    "# workspace = \"2024-06-10_22-18-09_linen-lawyer\"\n",
    "# workspace = \"2024-06-10_14-28-07_violet-well\"\n",
    "\n",
    "# No_Adv\n",
    "# workspace = \"2024-05-06_11-25-19_honeydew-tough\"\n",
    "# workspace = \"2024-05-07_02-30-05_darkblue-imagine\" # 0%\n",
    "# workspace = \"2024-05-10_01-41-38_lightslategray-operation\" # 100%\n",
    "\n",
    "# GBoost\n",
    "# workspace = \"2024-05-15_14-55-23_red-resource\"\n",
    "\n",
    "test = load_data_label_vector(f\"/app/wafcraft/data/prepared/{workspace}/test.csv\")\n",
    "train = load_data_label_vector(f\"/app/wafcraft/data/prepared/{workspace}/train.csv\")\n",
    "\n",
    "print(\"Test: \", test.shape)\n",
    "print(\n",
    "    f\"(attacks {test[test['label'] == 1].shape[0]}, sanes {test[test['label'] == 0].shape[0]})\"\n",
    ")\n",
    "print(\"Train: \", train.shape)\n",
    "print(\n",
    "    f\"(attacks {train[train['label'] == 1].shape[0]}, sanes {train[train['label'] == 0].shape[0]})\"\n",
    ")\n",
    "\n",
    "\n",
    "print(\"Test: \\n\", test.head())\n",
    "print()\n",
    "print(\"Train: \\n\", train.head())"
   ]
  },
  {
   "cell_type": "code",
   "execution_count": 77,
   "metadata": {},
   "outputs": [
    {
     "name": "stdout",
     "output_type": "stream",
     "text": [
      "Overlap:  (1, 3)\n",
      "Overlap: \n",
      "                                                 data  label_x  label_y\n",
      "0  U0VMRUNUIGBjb2wyYCBGUk9NIGB0YWJgIFdIRVJFIGBjb2...        1        0\n",
      "U0VMRUNUIGBjb2wyYCBGUk9NIGB0YWJgIFdIRVJFIGBjb2\n"
     ]
    }
   ],
   "source": [
    "# drop the vector column\n",
    "test = test.drop(columns=[\"vector\"])\n",
    "train = train.drop(columns=[\"vector\"])\n",
    "\n",
    "# check overlap of \"data\" column\n",
    "overlap = train.merge(test, on=[\"data\"], how=\"inner\")\n",
    "print(\"Overlap: \", overlap.shape)\n",
    "print(\"Overlap: \\n\", overlap.head())\n",
    "print(\"U0VMRUNUIGBjb2wyYCBGUk9NIGB0YWJgIFdIRVJFIGBjb2\")"
   ]
  },
  {
   "cell_type": "code",
   "execution_count": 78,
   "metadata": {},
   "outputs": [
    {
     "name": "stdout",
     "output_type": "stream",
     "text": [
      "Test duplicates:  (0, 2)\n",
      "Train duplicates:  (0, 2)\n"
     ]
    }
   ],
   "source": [
    "# check how many duplicates are in the test and train set\n",
    "\n",
    "print(\"Test duplicates: \", test[test.duplicated()].shape)\n",
    "\n",
    "print(\"Train duplicates: \", train[train.duplicated()].shape)"
   ]
  },
  {
   "cell_type": "code",
   "execution_count": 79,
   "metadata": {},
   "outputs": [
    {
     "name": "stdout",
     "output_type": "stream",
     "text": [
      "Test_adv:  (2000, 4)\n",
      "(attacks 2000, sanes 0)\n",
      "Train_adv:  (5000, 4)\n",
      "(attacks 5000, sanes 0)\n",
      "Test_adv: \n",
      "                                                 data  label  min_confidence  \\\n",
      "0  VXBkYXRlIGB0YWJgIHNldCBgY29sMWAgIExJS0UgIChTRU...      1          1.0000   \n",
      "1  REVsRVRlIEZST20gYHRhYmAgd0hlcmUgYGNvbDNgIExJS0...      1          1.0000   \n",
      "2  U0VMRUNUICogRlJPTSBgdGFiYCBXSEVSRSBgY29sM2AgPS...      1          0.9750   \n",
      "3  U0VMRUNUIChDQVNFIFdIRU4gKDE2MjMgTElLRSA2ODMwKS...      1          0.9125   \n",
      "4  U0VMRUNUICogRlJPTSBgdGFiYCBXSEVSRSBgY29sM2AgPC...      1          1.0000   \n",
      "\n",
      "                                              vector  \n",
      "0  [0.0, 0.0, 0.0, 0.0, 0.0, 0.0, 0.0, 0.0, 0.0, ...  \n",
      "1  [0.0, 0.0, 0.0, 0.0, 0.0, 0.0, 0.0, 0.0, 1.0, ...  \n",
      "2  [0.0, 0.0, 0.0, 0.0, 0.0, 0.0, 0.0, 0.0, 1.0, ...  \n",
      "3  [0.0, 0.0, 0.0, 0.0, 0.0, 0.0, 0.0, 0.0, 1.0, ...  \n",
      "4  [0.0, 0.0, 0.0, 0.0, 0.0, 0.0, 0.0, 0.0, 1.0, ...  \n",
      "\n",
      "Train_adv: \n",
      "                                                 data  label  min_confidence  \\\n",
      "0  VVBEQVRFIGB0YWJgIFNFVCBgY29sM2AgIExJS0UgIChTRU...      1          0.9375   \n",
      "1  VVBEQVRFIGB0YWJgIFNFVCBgY29sM2AgIExJS0UgIDB4Mi...      1          0.9375   \n",
      "2  REVMRVRFIEZST00gYHRhYmAgV0hFUkUgYGNvbDFgID0gJ2...      1          1.0000   \n",
      "3  SU5TRVJUIElOVE8gYHRhYmAgKCBgY29sM2AsIGBjb2wyYC...      1          1.0000   \n",
      "4  RW5kLS0gVkNBVicgT1IgYGNvbDFgID49ICIxIGFuZCBhc2...      1          1.0000   \n",
      "\n",
      "                                              vector  \n",
      "0  [0.0, 0.0, 0.0, 0.0, 0.0, 0.0, 0.0, 0.0, 1.0, ...  \n",
      "1  [0.0, 0.0, 0.0, 0.0, 0.0, 0.0, 0.0, 0.0, 1.0, ...  \n",
      "2  [0.0, 0.0, 0.0, 0.0, 0.0, 0.0, 0.0, 0.0, 1.0, ...  \n",
      "3  [0.0, 0.0, 0.0, 0.0, 0.0, 0.0, 0.0, 0.0, 0.0, ...  \n",
      "4  [0.0, 0.0, 0.0, 0.0, 0.0, 0.0, 0.0, 0.0, 1.0, ...  \n"
     ]
    }
   ],
   "source": [
    "# check adv\n",
    "\n",
    "check_adv = os.path.exists(f\"/app/wafcraft/data/prepared/{workspace}/test_adv.csv\")\n",
    "\n",
    "if check_adv:\n",
    "    test_adv = load_data_label_vector(\n",
    "        f\"/app/wafcraft/data/prepared/{workspace}/test_adv.csv\"\n",
    "    )\n",
    "    train_adv = load_data_label_vector(\n",
    "        f\"/app/wafcraft/data/prepared/{workspace}/train_adv.csv\"\n",
    "    )\n",
    "    print(\"Test_adv: \", test_adv.shape)\n",
    "    print(\n",
    "        f\"(attacks {test_adv[test_adv['label'] == 1].shape[0]}, sanes {test_adv[test_adv['label'] == 0].shape[0]})\"\n",
    "    )\n",
    "    print(\"Train_adv: \", train_adv.shape)\n",
    "    print(\n",
    "        f\"(attacks {train_adv[train_adv['label'] == 1].shape[0]}, sanes {train_adv[train_adv['label'] == 0].shape[0]})\"\n",
    "    )\n",
    "\n",
    "    print(\"Test_adv: \\n\", test_adv.head())\n",
    "    print()\n",
    "    print(\"Train_adv: \\n\", train_adv.head())"
   ]
  },
  {
   "cell_type": "code",
   "execution_count": 80,
   "metadata": {},
   "outputs": [
    {
     "name": "stdout",
     "output_type": "stream",
     "text": [
      "Overlap:  (0, 7)\n",
      "Overlap: \n",
      " Empty DataFrame\n",
      "Columns: [data, label_x, min_confidence_x, vector_x, label_y, min_confidence_y, vector_y]\n",
      "Index: []\n"
     ]
    }
   ],
   "source": [
    "if check_adv:\n",
    "    overlap_adv = train_adv.merge(test_adv, on=[\"data\"], how=\"inner\")\n",
    "    print(\"Overlap: \", overlap_adv.shape)\n",
    "    print(\"Overlap: \\n\", overlap_adv.head())"
   ]
  }
 ],
 "metadata": {
  "kernelspec": {
   "display_name": "Python 3 (ipykernel)",
   "language": "python",
   "name": "python3"
  }
 },
 "nbformat": 4,
 "nbformat_minor": 2
}
