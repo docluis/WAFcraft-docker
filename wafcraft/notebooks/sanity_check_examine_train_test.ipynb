{
 "cells": [
  {
   "cell_type": "code",
   "execution_count": 80,
   "metadata": {},
   "outputs": [],
   "source": [
    "# Get some information about a dataset"
   ]
  },
  {
   "cell_type": "code",
   "execution_count": 81,
   "metadata": {},
   "outputs": [
    {
     "name": "stdout",
     "output_type": "stream",
     "text": [
      "Test:  (4000, 3)\n",
      "(attacks 2000, sanes 2000)\n",
      "Train:  (20000, 3)\n",
      "(attacks 10000, sanes 10000)\n",
      "Test: \n",
      "                                                 data  label  \\\n",
      "0  U0VMRUNUICogRlJPTSBgdGFiYCBXSEVSRSBgY29sMmAgPj...      0   \n",
      "1  VVBEQVRFIGB0YWJgIFNFVCBgY29sMWAgPSAxIFdIRVJFIG...      1   \n",
      "2  U0VMRUNUICogRlJPTSBgdGFiYCBXSEVSRSBgY29sMmAgPj...      0   \n",
      "3  VVBEQVRFIGB0YWJgIFNFVCBgY29sMmAgPSAxIFdIRVJFIG...      0   \n",
      "4  U0VMRUNUIGBjb2wyYCwgYGNvbDFgIEZST00gYHRhYmAgV0...      1   \n",
      "\n",
      "                                              vector  \n",
      "0  [0.0, 0.0, 0.0, 0.0, 0.0, 0.0, 0.0, 0.0, 1.0, ...  \n",
      "1  [0.0, 0.0, 0.0, 0.0, 0.0, 0.0, 0.0, 0.0, 1.0, ...  \n",
      "2  [0.0, 0.0, 0.0, 0.0, 0.0, 0.0, 0.0, 0.0, 1.0, ...  \n",
      "3  [0.0, 0.0, 0.0, 0.0, 0.0, 0.0, 0.0, 0.0, 0.0, ...  \n",
      "4  [0.0, 0.0, 0.0, 0.0, 0.0, 0.0, 0.0, 0.0, 1.0, ...  \n",
      "\n",
      "Train: \n",
      "                                                 data  label  \\\n",
      "0  REVMRVRFIEZST00gYHRhYmAgV0hFUkUgYGNvbDNgID0gJ3...      1   \n",
      "1  REVMRVRFIEZST00gYHRhYmAgV0hFUkUgYGNvbDNgID0gIi...      1   \n",
      "2  U0VMRUNUIGBjb2wxYCwgYGNvbDFgLCBgY29sMWAgRlJPTS...      1   \n",
      "3  RU5ELS0iICk7CklOU0VSVCBJTlRPIGB0YWJgICggYGNvbD...      1   \n",
      "4  REVMRVRFIEZST00gYHRhYmAgV0hFUkUgYGNvbDJgID49IC...      1   \n",
      "\n",
      "                                              vector  \n",
      "0  [0.0, 0.0, 0.0, 0.0, 0.0, 0.0, 0.0, 0.0, 0.0, ...  \n",
      "1  [0.0, 0.0, 0.0, 0.0, 0.0, 0.0, 0.0, 0.0, 1.0, ...  \n",
      "2  [0.0, 0.0, 0.0, 0.0, 0.0, 0.0, 0.0, 0.0, 1.0, ...  \n",
      "3  [0.0, 0.0, 0.0, 0.0, 0.0, 0.0, 0.0, 0.0, 1.0, ...  \n",
      "4  [0.0, 0.0, 0.0, 0.0, 0.0, 0.0, 0.0, 0.0, 1.0, ...  \n"
     ]
    }
   ],
   "source": [
    "from src.utils import load_data_label_vector\n",
    "\n",
    "# workspace = \"2024-04-07_18-15-53_brown-lot\"\n",
    "# workspace = \"2024-04-18_14-12-51_lightblue-around\"\n",
    "# workspace = \"2024-06-09_13-38-16_whitesmoke-growth\"\n",
    "# workspace = \"2024-06-09_13-52-08_lightcoral-while\"\n",
    "workspace = \"2024-06-09_20-11-04_lightslategray-them\"\n",
    "\n",
    "test = load_data_label_vector(f\"/app/wafcraft/data/prepared/{workspace}/test.csv\")\n",
    "train = load_data_label_vector(f\"/app/wafcraft/data/prepared/{workspace}/train.csv\")\n",
    "\n",
    "print(\"Test: \", test.shape)\n",
    "print(\n",
    "    f\"(attacks {test[test['label'] == 1].shape[0]}, sanes {test[test['label'] == 0].shape[0]})\"\n",
    ")\n",
    "print(\"Train: \", train.shape)\n",
    "print(\n",
    "    f\"(attacks {train[train['label'] == 1].shape[0]}, sanes {train[train['label'] == 0].shape[0]})\"\n",
    ")\n",
    "\n",
    "\n",
    "print(\"Test: \\n\", test.head())\n",
    "print()\n",
    "print(\"Train: \\n\", train.head())"
   ]
  },
  {
   "cell_type": "code",
   "execution_count": 82,
   "metadata": {},
   "outputs": [
    {
     "name": "stdout",
     "output_type": "stream",
     "text": [
      "Overlap:  (1, 3)\n",
      "Overlap: \n",
      "                                                 data  label_x  label_y\n",
      "0  U0VMRUNUIGBjb2wyYCBGUk9NIGB0YWJgIFdIRVJFIGBjb2...        1        0\n"
     ]
    }
   ],
   "source": [
    "# drop the vector column\n",
    "test = test.drop(columns=[\"vector\"])\n",
    "train = train.drop(columns=[\"vector\"])\n",
    "\n",
    "# check overlap of \"data\" column\n",
    "overlap = train.merge(test, on=[\"data\"], how=\"inner\")\n",
    "print(\"Overlap: \", overlap.shape)\n",
    "print(\"Overlap: \\n\", overlap.head())"
   ]
  },
  {
   "cell_type": "code",
   "execution_count": 83,
   "metadata": {},
   "outputs": [
    {
     "name": "stdout",
     "output_type": "stream",
     "text": [
      "Test duplicates:  (0, 2)\n",
      "Train duplicates:  (0, 2)\n"
     ]
    }
   ],
   "source": [
    "# check how many duplicates are in the test and train set\n",
    "\n",
    "print(\"Test duplicates: \", test[test.duplicated()].shape)\n",
    "\n",
    "print(\"Train duplicates: \", train[train.duplicated()].shape)"
   ]
  }
 ],
 "metadata": {
  "kernelspec": {
   "display_name": "Python 3 (ipykernel)",
   "language": "python",
   "name": "python3"
  },
  "language_info": {
   "codemirror_mode": {
    "name": "ipython",
    "version": 3
   },
   "file_extension": ".py",
   "mimetype": "text/x-python",
   "name": "python",
   "nbconvert_exporter": "python",
   "pygments_lexer": "ipython3",
   "version": "3.8.19"
  }
 },
 "nbformat": 4,
 "nbformat_minor": 2
}
