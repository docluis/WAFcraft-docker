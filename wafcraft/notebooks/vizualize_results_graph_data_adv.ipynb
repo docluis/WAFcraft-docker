{
 "cells": [
  {
   "cell_type": "code",
   "execution_count": 56,
   "metadata": {},
   "outputs": [],
   "source": [
    "import pandas as pd\n",
    "import os\n",
    "import seaborn as sns\n",
    "import matplotlib.pyplot as plt"
   ]
  },
  {
   "cell_type": "code",
   "execution_count": 57,
   "metadata": {},
   "outputs": [],
   "source": [
    "surrogate_configs = [\n",
    "    \"Surrogate_Data_V11\",\n",
    "    \"Surrogate_Data_V12\",\n",
    "    \"Surrogate_Data_V13\",\n",
    "    \"Surrogate_Data_V14\",\n",
    "    \"Surrogate_Data_V5\",\n",
    "]\n",
    "\n",
    "targets = [\n",
    "    \"2024-04-28_07-18-23_lightcoral-pretty\",\n",
    "    \"2024-04-28_22-59-40_blueviolet-physical\",\n",
    "    \"2024-05-14_22-20-02_lightpink-medical\",\n",
    "    \"2024-04-10_13-36-12_darkcyan-why\",\n",
    "    \"2024-04-29_15-29-39_darkkhaki-quickly\",\n",
    "    \"2024-04-28_15-07-53_aliceblue-suddenly\",\n",
    "]"
   ]
  },
  {
   "cell_type": "code",
   "execution_count": 58,
   "metadata": {},
   "outputs": [],
   "source": [
    "def get_transferabilities(target):\n",
    "    path = f\"/app/wafcraft/results/dataoverlap_adv_experiments/target_{target}/transferability.csv\"\n",
    "    df = pd.read_csv(path)\n",
    "\n",
    "    means = {}\n",
    "\n",
    "    for config in surrogate_configs:\n",
    "        # get all entries in df where config column is equal to config\n",
    "        config_df = df[df[\"config\"] == config]\n",
    "        # print(f\"Config: {config}\")\n",
    "        # print(config_df)\n",
    "        # calculate the mean samples_evaded_percentage\n",
    "        mean_samples_evaded_percentage = config_df[\"samples_evaded_percentage\"].mean()\n",
    "        # print(f\"Mean samples_evaded_percentage: {mean_samples_evaded_percentage}\")\n",
    "        means[config] = mean_samples_evaded_percentage\n",
    "    \n",
    "    return means"
   ]
  },
  {
   "cell_type": "code",
   "execution_count": 59,
   "metadata": {},
   "outputs": [
    {
     "name": "stdout",
     "output_type": "stream",
     "text": [
      "{'2024-04-28_07-18-23_lightcoral-pretty': {'Surrogate_Data_V11': 0.8212483113742336, 'Surrogate_Data_V12': 0.8697086374522294, 'Surrogate_Data_V13': 0.9065380464135216, 'Surrogate_Data_V14': 0.8905184555694006, 'Surrogate_Data_V5': 0.8970338958641808}, '2024-04-28_22-59-40_blueviolet-physical': {'Surrogate_Data_V11': 0.8066858312632772, 'Surrogate_Data_V12': 0.8583659170990217, 'Surrogate_Data_V13': 0.896837550314526, 'Surrogate_Data_V14': 0.896562677602141, 'Surrogate_Data_V5': 0.9019628531994404}, '2024-05-14_22-20-02_lightpink-medical': {'Surrogate_Data_V11': 0.835044429701764, 'Surrogate_Data_V12': 0.8774210853149267, 'Surrogate_Data_V13': 0.9279136873070675, 'Surrogate_Data_V14': 0.9147036690278753, 'Surrogate_Data_V5': 0.9244989464436422}, '2024-04-10_13-36-12_darkcyan-why': {'Surrogate_Data_V11': 0.8255343328039811, 'Surrogate_Data_V12': 0.8610477472143173, 'Surrogate_Data_V13': 0.9022722492169656, 'Surrogate_Data_V14': 0.9014038022712993, 'Surrogate_Data_V5': 0.900347368972148}, '2024-04-29_15-29-39_darkkhaki-quickly': {'Surrogate_Data_V11': 0.8255375795093541, 'Surrogate_Data_V12': 0.8663480101378219, 'Surrogate_Data_V13': 0.9127359329112957, 'Surrogate_Data_V14': 0.8900622437148807, 'Surrogate_Data_V5': 0.9127196893100976}, '2024-04-28_15-07-53_aliceblue-suddenly': {'Surrogate_Data_V11': 0.8684788890047382, 'Surrogate_Data_V12': 0.8981360450314216, 'Surrogate_Data_V13': 0.9427011536960691, 'Surrogate_Data_V14': 0.9331742404530227, 'Surrogate_Data_V5': 0.963784338058059}}\n",
      "{'Surrogate_Data_V11': 0.8304215622762247, 'Surrogate_Data_V12': 0.871837907041623, 'Surrogate_Data_V13': 0.9148331033099075, 'Surrogate_Data_V14': 0.90440418143977, 'Surrogate_Data_V5': 0.9167245153079281}\n",
      "{'Surrogate_Data_V11': 0.0003608337965610461, 'Surrogate_Data_V12': 0.0001758931267455025, 'Surrogate_Data_V13': 0.00025042516429687485, 'Surrogate_Data_V14': 0.000233798626407561, 'Surrogate_Data_V5': 0.000527490902069632}\n"
     ]
    }
   ],
   "source": [
    "all_means = {}\n",
    "for target in targets:\n",
    "    means = get_transferabilities(target)\n",
    "    all_means[target] = means\n",
    "\n",
    "print(all_means)\n",
    "# calulate the mean and std deviation of the means\n",
    "means = {}\n",
    "deviations = {}\n",
    "for config in surrogate_configs:\n",
    "    config_means = []\n",
    "    for target in targets:\n",
    "        config_means.append(all_means[target][config])\n",
    "    means[config] = sum(config_means) / len(config_means)\n",
    "    deviations[config] = sum([(x - means[config]) ** 2 for x in config_means]) / len(config_means)\n",
    "\n",
    "\n",
    "print(means)\n",
    "print(deviations)"
   ]
  },
  {
   "cell_type": "code",
   "execution_count": 60,
   "metadata": {},
   "outputs": [],
   "source": [
    "backup = {\n",
    "    \"Surrogate_Data_V11\": 0.8304215622762247,\n",
    "    \"Surrogate_Data_V12\": 0.871837907041623,\n",
    "    \"Surrogate_Data_V13\": 0.9148331033099075,\n",
    "    \"Surrogate_Data_V14\": 0.90440418143977,\n",
    "    \"Surrogate_Data_V5\": 0.9167245153079281,\n",
    "}"
   ]
  }
 ],
 "metadata": {
  "kernelspec": {
   "display_name": "Python 3 (ipykernel)",
   "language": "python",
   "name": "python3"
  },
  "language_info": {
   "codemirror_mode": {
    "name": "ipython",
    "version": 3
   },
   "file_extension": ".py",
   "mimetype": "text/x-python",
   "name": "python",
   "nbconvert_exporter": "python",
   "pygments_lexer": "ipython3",
   "version": "3.8.19"
  }
 },
 "nbformat": 4,
 "nbformat_minor": 2
}
