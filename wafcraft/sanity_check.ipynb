{
 "cells": [
  {
   "cell_type": "code",
   "execution_count": 87,
   "metadata": {},
   "outputs": [],
   "source": [
    "# imports\n",
    "import pandas as pd\n",
    "from src.utils import load_data_label_vector"
   ]
  },
  {
   "cell_type": "code",
   "execution_count": 92,
   "metadata": {},
   "outputs": [],
   "source": [
    "data = \"2024-04-11 11-33-28 royalblue-either\"\n",
    "train = load_data_label_vector(f\"data/prepared/{data}/train.csv\")\n",
    "test = load_data_label_vector(f\"data/prepared/{data}/test.csv\")\n",
    "train_adv = load_data_label_vector(f\"data/prepared/{data}/train_adv.csv\")\n",
    "test_adv = load_data_label_vector(f\"data/prepared/{data}/test_adv.csv\")\n",
    "\n",
    "concat = pd.concat([train, train_adv]).sample(frac=1).reset_index(drop=True)\n",
    "\n",
    "concat.to_csv(f\"train_combined.csv\", index=False)"
   ]
  },
  {
   "cell_type": "code",
   "execution_count": 88,
   "metadata": {},
   "outputs": [
    {
     "name": "stdout",
     "output_type": "stream",
     "text": [
      "(1000, 3)\n",
      "(1000, 3)\n",
      "(500, 3)\n",
      "(500, 3)\n"
     ]
    }
   ],
   "source": [
    "data1 = \"2024-04-07 17-54-10 ivory-foot\"\n",
    "# data2 = \"2024-04-07 18-04-13 tomato-north\" # 0% overlap\n",
    "data2 = \"2024-04-07 18-10-34 cornflowerblue-view\" # 100% overlap\n",
    "\n",
    "train1 = load_data_label_vector(f\"data/prepared/{data1}/train.csv\")\n",
    "train2 = load_data_label_vector(f\"data/prepared/{data2}/train.csv\")\n",
    "\n",
    "test1 = load_data_label_vector(f\"data/prepared/{data1}/test.csv\")\n",
    "test2 = load_data_label_vector(f\"data/prepared/{data2}/test.csv\")\n",
    "\n",
    "print(train1.shape)\n",
    "print(train2.shape)\n",
    "print(test1.shape)\n",
    "print(test2.shape)"
   ]
  },
  {
   "cell_type": "code",
   "execution_count": 89,
   "metadata": {},
   "outputs": [
    {
     "name": "stdout",
     "output_type": "stream",
     "text": [
      "(1000, 2)\n",
      "(500, 2)\n",
      "                                                data  label\n",
      "0  U0VMRUNUIGBjb2wxYCwgYGNvbDJgLCBgY29sMWAgRlJPTS...      0\n",
      "1  U0VMRUNUIENPVU5UKCopIEZST00gR0VORVJBVEVfU0VSSU...      1\n",
      "2  SU5TRVJUIElOVE8gYHRhYmAgKCBgY29sMmAgKSBWQUxVRV...      1\n",
      "3  REVMRVRFIEZST00gYHRhYmAgV0hFUkUgYGNvbDFgID49IC...      1\n",
      "4  U0VMRUNUIGBjb2wzYCBGUk9NIGB0YWJgIFdIRVJFIGBjb2...      0\n",
      "(1000, 2)\n",
      "(1000, 2)\n",
      "(500, 2)\n",
      "(500, 2)\n",
      "(1000, 2)\n",
      "(500, 2)\n"
     ]
    }
   ],
   "source": [
    "# drop vector column\n",
    "train1 = train1.drop(columns=['vector'])\n",
    "train2 = train2.drop(columns=['vector'])\n",
    "\n",
    "test1 = test1.drop(columns=['vector'])\n",
    "test2 = test2.drop(columns=['vector'])\n",
    "\n",
    "overlap_train = pd.merge(train1, train2, how='inner')\n",
    "overlap_test = pd.merge(test1, test2, how='inner')\n",
    "\n",
    "print(overlap_train.shape)\n",
    "print(overlap_test.shape)\n",
    "\n",
    "print(overlap_test.head())\n",
    "\n",
    "print(train1.shape)\n",
    "print(train2.shape)\n",
    "print(test1.shape)\n",
    "print(test2.shape)\n",
    "\n",
    "overlap_train_unique = overlap_train.drop_duplicates(subset=['data'])\n",
    "overlap_test_unique = overlap_test.drop_duplicates(subset=['data'])\n",
    "print(overlap_train_unique.shape)\n",
    "print(overlap_test_unique.shape)"
   ]
  }
 ],
 "metadata": {
  "kernelspec": {
   "display_name": "Python 3 (ipykernel)",
   "language": "python",
   "name": "python3"
  },
  "language_info": {
   "codemirror_mode": {
    "name": "ipython",
    "version": 3
   },
   "file_extension": ".py",
   "mimetype": "text/x-python",
   "name": "python",
   "nbconvert_exporter": "python",
   "pygments_lexer": "ipython3",
   "version": "3.8.19"
  }
 },
 "nbformat": 4,
 "nbformat_minor": 2
}
