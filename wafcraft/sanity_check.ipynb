{
 "cells": [
  {
   "cell_type": "code",
   "execution_count": null,
   "metadata": {},
   "outputs": [],
   "source": [
    "# imports\n",
    "import pandas as pd\n",
    "from src.utils import load_data_label_vector"
   ]
  },
  {
   "cell_type": "code",
   "execution_count": null,
   "metadata": {},
   "outputs": [],
   "source": [
    "data1 = \"2024-04-02 14-11-37 maroon-firm\"\n",
    "data2 = \"2024-04-02 14-13-15 dimgray-hour\"\n",
    "\n",
    "train1 = load_data_label_vector(f'data/prepared/{data1}/train.csv')\n",
    "train2 = load_data_label_vector(f'data/prepared/{data2}/train.csv')\n",
    "\n",
    "test1 = load_data_label_vector(f'data/prepared/{data1}/test.csv')\n",
    "test2 = load_data_label_vector(f'data/prepared/{data2}/test.csv')\n",
    "\n",
    "print(train1.shape)\n",
    "print(train2.shape)\n",
    "print(test1.shape)\n",
    "print(test2.shape)"
   ]
  },
  {
   "cell_type": "code",
   "execution_count": null,
   "metadata": {},
   "outputs": [],
   "source": [
    "overlap_train = pd.merge(train1, train2, how='inner', on=['data'])\n",
    "overlap_test = pd.merge(test1, test2, how='inner', on=['data'])\n",
    "\n",
    "print(overlap_train.shape)\n",
    "print(overlap_test.shape)\n",
    "\n",
    "overlap_train_unique = overlap_train.drop_duplicates(subset=['data'])\n",
    "print(overlap_train_unique.shape)\n",
    "\n",
    "print(overlap_train_unique.head())"
   ]
  }
 ],
 "metadata": {
  "kernelspec": {
   "display_name": "Python 3 (ipykernel)",
   "language": "python",
   "name": "python3"
  }
 },
 "nbformat": 4,
 "nbformat_minor": 2
}
