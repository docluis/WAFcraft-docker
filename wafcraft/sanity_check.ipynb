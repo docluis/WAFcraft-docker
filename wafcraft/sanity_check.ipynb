{
 "cells": [
  {
   "cell_type": "code",
   "execution_count": null,
   "metadata": {},
   "outputs": [],
   "source": [
    "# imports\n",
    "import pandas as pd\n",
    "from src.utils import load_data_label_vector"
   ]
  },
  {
   "cell_type": "code",
   "execution_count": null,
   "metadata": {},
   "outputs": [],
   "source": [
    "data1 = \"2024-04-03 12-13-13 lightcoral-investment\"\n",
    "# data2 = \"2024-04-02 14-20-47 mediumblue-religious\" # 0% overlap\n",
    "# data2 = \"2024-04-03 15-51-47 palegoldenrod-current\"  # 75% overlap\n",
    "# data2 = \"2024-04-03 18-26-39 yellowgreen-poor\" # 50% overlap\n",
    "# data2 = \"2024-04-03 20-28-36 green-fish\" # 25% overlap\n",
    "data2 = \"2024-04-04 10-31-47 lightcyan-look\" # 0% overlap\n",
    "\n",
    "train1 = load_data_label_vector(f\"data/prepared/{data1}/train.csv\")\n",
    "train2 = load_data_label_vector(f\"data/prepared/{data2}/train.csv\")\n",
    "\n",
    "test1 = load_data_label_vector(f\"data/prepared/{data1}/test.csv\")\n",
    "test2 = load_data_label_vector(f\"data/prepared/{data2}/test.csv\")\n",
    "\n",
    "print(train1.shape)\n",
    "print(train2.shape)\n",
    "print(test1.shape)\n",
    "print(test2.shape)"
   ]
  },
  {
   "cell_type": "code",
   "execution_count": null,
   "metadata": {},
   "outputs": [],
   "source": [
    "# drop vector column\n",
    "train1 = train1.drop(columns=['vector'])\n",
    "train2 = train2.drop(columns=['vector'])\n",
    "\n",
    "test1 = test1.drop(columns=['vector'])\n",
    "test2 = test2.drop(columns=['vector'])\n",
    "\n",
    "overlap_train = pd.merge(train1, train2, how='inner')\n",
    "overlap_test = pd.merge(test1, test2, how='inner')\n",
    "\n",
    "print(overlap_train.shape)\n",
    "print(overlap_test.shape)\n",
    "\n",
    "print(overlap_test.head())\n",
    "\n",
    "print(train1.shape)\n",
    "print(train2.shape)\n",
    "print(test1.shape)\n",
    "print(test2.shape)\n",
    "\n",
    "overlap_train_unique = overlap_train.drop_duplicates(subset=['data'])\n",
    "overlap_test_unique = overlap_test.drop_duplicates(subset=['data'])\n",
    "print(overlap_train_unique.shape)\n",
    "print(overlap_test_unique.shape)"
   ]
  }
 ],
 "metadata": {
  "kernelspec": {
   "display_name": "Python 3 (ipykernel)",
   "language": "python",
   "name": "python3"
  }
 },
 "nbformat": 4,
 "nbformat_minor": 2
}
