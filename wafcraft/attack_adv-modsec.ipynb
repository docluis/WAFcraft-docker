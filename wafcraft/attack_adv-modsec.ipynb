{
 "cells": [
  {
   "cell_type": "code",
   "execution_count": null,
   "metadata": {},
   "outputs": [],
   "source": [
    "# Imports\n",
    "\n",
    "import os\n",
    "import joblib\n",
    "import pandas as pd\n",
    "\n",
    "from src.modsec import init_modsec\n",
    "from src.utils import load_data_label_vector, get_most_recent_data_path\n",
    "from src.model import train_model, test_evasion\n",
    "from config import BaseConfig, HalfConfig, PaperConfig"
   ]
  },
  {
   "cell_type": "code",
   "execution_count": null,
   "metadata": {},
   "outputs": [],
   "source": [
    "# Setup Variables\n",
    "\n",
    "Config = PaperConfig()\n",
    "data_path = get_most_recent_data_path()\n",
    "\n",
    "print(f\"Using data from {data_path}\")"
   ]
  },
  {
   "cell_type": "code",
   "execution_count": null,
   "metadata": {},
   "outputs": [],
   "source": [
    "# Load Data\n",
    "\n",
    "train = load_data_label_vector(f\"{data_path}/train.csv\")\n",
    "test = load_data_label_vector(f\"{data_path}/test.csv\")\n",
    "train_adv = load_data_label_vector(f\"{data_path}/train_adv.csv\")\n",
    "test_adv = load_data_label_vector(f\"{data_path}/test_adv.csv\")\n",
    "\n",
    "# print shape\n",
    "print(f\"Train: {train.shape}, Test: {test.shape}\")\n",
    "print(f\"Train Adv: {train_adv.shape}, Test Adv: {test_adv.shape}\")"
   ]
  },
  {
   "cell_type": "code",
   "execution_count": null,
   "metadata": {},
   "outputs": [],
   "source": [
    "# Load/Train Models\n",
    "\n",
    "model_trained = joblib.load(f\"{data_path}/model.joblib\")\n",
    "threshold = float(open(f\"{data_path}/threshold.txt\", \"r\").read())\n",
    "\n",
    "# # remove the min_confidence column in adv sets\n",
    "# train_adv = train_adv.drop(columns=[\"min_confidence\"])\n",
    "# test_adv = test_adv.drop(columns=[\"min_confidence\"])\n",
    "\n",
    "model_adv_trained, threshold_adv = train_model(\n",
    "    train=pd.concat([train, train_adv]).sample(frac=1).reset_index(drop=True),\n",
    "    test=pd.concat([test, test_adv]).sample(frac=1).reset_index(drop=True),\n",
    "    model=Config.MODEL_ADV,\n",
    "    desired_fpr=Config.DESIRED_FPR,\n",
    ")"
   ]
  },
  {
   "cell_type": "code",
   "execution_count": null,
   "metadata": {},
   "outputs": [],
   "source": [
    "# Test Evasion (base model without adversarial training)\n",
    "\n",
    "test_evasion(\n",
    "    payload='SELECT SLEEP(5)#\";',\n",
    "    threshold=threshold,\n",
    "    model=model_trained,\n",
    "    engine_eval_settings={\n",
    "        \"max_rounds\": 2000,\n",
    "        \"round_size\": 30,\n",
    "        \"timeout\": 120,\n",
    "        \"threshold\": 0.0,\n",
    "    },\n",
    "    modsec=init_modsec(),\n",
    "    rule_ids=Config.RULE_IDS,\n",
    "    paranoia_level=Config.PARANOIA_LEVEL,\n",
    ")"
   ]
  },
  {
   "cell_type": "code",
   "execution_count": null,
   "metadata": {},
   "outputs": [],
   "source": [
    "# Test Evasion (adversarially trained model)\n",
    "\n",
    "test_evasion(\n",
    "    payload='SELECT SLEEP(5)#\";',\n",
    "    threshold=threshold,\n",
    "    model=model_adv_trained,\n",
    "    engine_eval_settings={\n",
    "        \"max_rounds\": 2000,\n",
    "        \"round_size\": 30,\n",
    "        \"timeout\": 120,\n",
    "        \"threshold\": 0.0,\n",
    "    },\n",
    "    modsec=init_modsec(),\n",
    "    rule_ids=Config.RULE_IDS,\n",
    "    paranoia_level=Config.PARANOIA_LEVEL,\n",
    ")"
   ]
  }
 ],
 "metadata": {
  "kernelspec": {
   "display_name": "Python 3 (ipykernel)",
   "language": "python",
   "name": "python3"
  }
 },
 "nbformat": 4,
 "nbformat_minor": 2
}
