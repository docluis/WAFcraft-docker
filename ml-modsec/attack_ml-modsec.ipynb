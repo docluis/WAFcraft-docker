{
 "cells": [
  {
   "cell_type": "code",
   "execution_count": 1,
   "metadata": {},
   "outputs": [],
   "source": [
    "# Imports\n",
    "import pandas as pd  # type: ignore\n",
    "import base64\n",
    "from utils import (\n",
    "    get_rules_list,\n",
    "    create_train_test_split,\n",
    "    create_model,\n",
    "    payload_to_vec,\n",
    "    create_adv_train_test_set,\n",
    ")\n",
    "from modsec import init_modsec\n",
    "\n",
    "from sklearn.ensemble import RandomForestClassifier  # type: ignore\n",
    "from wafamole.evasion import EvasionEngine  # type: ignore"
   ]
  },
  {
   "cell_type": "code",
   "execution_count": 2,
   "metadata": {},
   "outputs": [],
   "source": [
    "# Set up variables\n",
    "\n",
    "attack_data_path = \"data/attacks_20k.sql\"\n",
    "sane_data_path = \"data/sanes_20k.sql\"\n",
    "\n",
    "rule_ids = get_rules_list()\n",
    "modsec = init_modsec()"
   ]
  },
  {
   "cell_type": "code",
   "execution_count": 3,
   "metadata": {},
   "outputs": [
    {
     "name": "stdout",
     "output_type": "stream",
     "text": [
      "Reading and parsing data...\n",
      "Splitting into train and test...\n",
      "Creating vectors...\n"
     ]
    },
    {
     "name": "stderr",
     "output_type": "stream",
     "text": [
      "Processing payloads: 100%|██████████| 5000/5000 [01:28<00:00, 56.55it/s]\n",
      "Processing payloads: 100%|██████████| 1000/1000 [00:36<00:00, 27.06it/s]\n"
     ]
    },
    {
     "name": "stdout",
     "output_type": "stream",
     "text": [
      "Done!\n",
      "Train shape: (5000, 3) | Test shape: (1000, 3)\n",
      "Model trained successfully!\n",
      "Evaluating model...\n",
      "Default threshold: 0.5\n",
      "              precision    recall  f1-score   support\n",
      "\n",
      "      attack       0.97      0.94      0.95       500\n",
      "        sane       0.94      0.97      0.95       500\n",
      "\n",
      "    accuracy                           0.95      1000\n",
      "   macro avg       0.95      0.95      0.95      1000\n",
      "weighted avg       0.95      0.95      0.95      1000\n",
      "\n",
      "Adjusted threshold: 0.8027458911979671\n",
      "              precision    recall  f1-score   support\n",
      "\n",
      "      attack       0.85      0.99      0.92       500\n",
      "        sane       0.99      0.83      0.90       500\n",
      "\n",
      "    accuracy                           0.91      1000\n",
      "   macro avg       0.92      0.91      0.91      1000\n",
      "weighted avg       0.92      0.91      0.91      1000\n",
      "\n"
     ]
    }
   ],
   "source": [
    "# Create train and test sets and train model\n",
    "\n",
    "paranoia_level = 4\n",
    "\n",
    "# train, test = create_train_test_split(\n",
    "#     attack_file=attack_data_path,\n",
    "#     sane_file=sane_data_path,\n",
    "#     train_attacks_size=2500,  # paper uses 10000\n",
    "#     train_sanes_size=2500,  # paper uses 10000\n",
    "#     test_attacks_size=500,  # paper uses 2000\n",
    "#     test_sanes_size=500,  # paper uses 2000\n",
    "#     modsec=modsec,\n",
    "#     rule_ids=rule_ids,\n",
    "#     paranoia_level=paranoia_level,\n",
    "# )\n",
    "# train.to_csv(\"data/train_5k.csv\", index=False)\n",
    "# test.to_csv(\"data/test_1k.csv\", index=False)\n",
    "\n",
    "# load the train and test sets from disk\n",
    "train = pd.read_csv(\"data/train_5k.csv\")\n",
    "test = pd.read_csv(\"data/test_1k.csv\")\n",
    "\n",
    "wafamole_model, threshold = create_model(\n",
    "    train=train,\n",
    "    test=test,\n",
    "    model=RandomForestClassifier(n_estimators=160, random_state=666),\n",
    "    desired_fpr=0.01,\n",
    "    modsec=modsec,\n",
    "    rule_ids=rule_ids,\n",
    "    paranoia_level=paranoia_level,\n",
    ")"
   ]
  },
  {
   "cell_type": "code",
   "execution_count": 4,
   "metadata": {},
   "outputs": [
    {
     "name": "stdout",
     "output_type": "stream",
     "text": [
      "Optimizing train payloads...\n"
     ]
    },
    {
     "name": "stderr",
     "output_type": "stream",
     "text": [
      "100%|██████████| 50/50 [03:14<00:00,  3.89s/it]\n"
     ]
    },
    {
     "name": "stdout",
     "output_type": "stream",
     "text": [
      "Optimizing test payloads...\n"
     ]
    },
    {
     "name": "stderr",
     "output_type": "stream",
     "text": [
      "100%|██████████| 50/50 [03:03<00:00,  3.67s/it]"
     ]
    },
    {
     "name": "stdout",
     "output_type": "stream",
     "text": [
      "train_adv looks like:                                                    data   label\n",
      "2779  REVsZVRFIGZyb20gYFRhYmAgV0hFcmUgYENPTDNgIDwgLT...    sane\n",
      "2610  VVBEQVRFIGB0YWJgIFNFVCBgY29sM2AgPSAweDMgV0hFUk...  attack\n",
      "1120  U2VMRUN0IGBjT0wxYCBGUm9tIGBUYUJgIHdIRXJFIGBjb0...  attack\n",
      "662   VVBEQVRFDGB0YWJgIFNFVCBgY29sMmAgPSA0IFdIRVJFIG...  attack\n",
      "4452  VVBEQVRFIGB0YWJgIFNFVCBgY29sM2AgPSAwIFdIRVJFIG...    sane\n",
      "test_adv looks like:                                                   data   label\n",
      "487  REVMRVRFIEZST00gYHRhYmAgV0hFUkUgYGNvbDNgID0gJ2...  attack\n",
      "642  SU5TRVJUIElOVE8gYHRhYmAgKCBgY29sMmAsIGBjb2wyYC...  attack\n",
      "521  VVBEQVRFIGB0YWJgIFNFVCBgY29sMmAgPSAzIFdIRVJFIG...  attack\n",
      "242  REVMRXRlIEZSb20gYFRBQmAgd0hFcmUgYGNvbDJgID0gJ3...    sane\n",
      "739  VVBEQVRFIGB0YWJgIFNFVCBgY29sMWAgTElLRSA3IFdIRV...    sane\n"
     ]
    },
    {
     "name": "stderr",
     "output_type": "stream",
     "text": [
      "\n"
     ]
    }
   ],
   "source": [
    "# adversarial training\n",
    "\n",
    "engine = EvasionEngine(wafamole_model)\n",
    "engine_settings = {\n",
    "    \"max_rounds\": 200,\n",
    "    \"round_size\": 10,\n",
    "    \"timeout\": 10,\n",
    "    \"threshold\": threshold,\n",
    "}\n",
    "\n",
    "train_adv, test_adv = create_adv_train_test_set(\n",
    "    train=train,\n",
    "    test=test,\n",
    "    train_adv_size=50,\n",
    "    test_adv_size=50,\n",
    "    engine=engine,\n",
    "    engine_settings=engine_settings,\n",
    ")\n",
    "\n",
    "print(f\"train_adv looks like: {train_adv[:5]}\")\n",
    "print(f\"test_adv looks like: {test_adv[:5]}\")"
   ]
  },
  {
   "cell_type": "code",
   "execution_count": 5,
   "metadata": {},
   "outputs": [
    {
     "name": "stdout",
     "output_type": "stream",
     "text": [
      "Payload: SELECT SLEEP(5)#\";\n",
      "Vec: [0 0 0 0 0 0 0 0 1 0 0 0 0 0 0 1 0 0 1 1 1 0 0 0 0 0 0 0 0 0 0 0 0 0 0 0 0\n",
      " 1 0 0 0 0 0 1 0 0 0 1 0 0 0 0 1 0 0 1 0 0 0 0 0 0 0 0 0 0 1 0 0]\n",
      "Confidence: 0.96247\n"
     ]
    }
   ],
   "source": [
    "# Test the model\n",
    "\n",
    "payload = 'SELECT SLEEP(5)#\";'  # attack\n",
    "\n",
    "payload_base64 = base64.b64encode(payload.encode(\"utf-8\")).decode(\"utf-8\")\n",
    "vec = payload_to_vec(payload_base64, rule_ids, modsec, paranoia_level)\n",
    "is_attack = wafamole_model.classify(payload)\n",
    "print(f\"Payload: {payload}\")\n",
    "print(f\"Vec: {vec}\")\n",
    "print(f\"Confidence: {round(is_attack, 5)}\")"
   ]
  },
  {
   "cell_type": "code",
   "execution_count": 6,
   "metadata": {},
   "outputs": [
    {
     "name": "stdout",
     "output_type": "stream",
     "text": [
      "[!] Execution timed out\n",
      "Reached confidence 0.6891363316546412\n",
      "with payload\n",
      "SELECT SLEEP((SELECT (SELECT 0x5)))#\";v\u000b\n",
      "\n",
      "Min payload: b'SELECT\\xc2\\xa0SLEEP((SELECT (SELECT 0x5)))#\";v\\x0b'\n",
      "Min confidence: 0.68914\n",
      "Reduced confidence from 0.96247 to 0.68914 (reduction of 0.27333)\n",
      "\n",
      "Evasion successful\n"
     ]
    }
   ],
   "source": [
    "# Try and evade the WAF with WAFamole\n",
    "\n",
    "# TODO: decide if we want to just evade (reach threshold) or if we want to minimize confidence until convergence\n",
    "# Probably the latter, but we need to decide on a stopping criterion (time out probably)\n",
    "min_confidence, min_payload = engine.evaluate(\n",
    "    payload=payload,\n",
    "    max_rounds=200,\n",
    "    round_size=10,\n",
    "    timeout=60,\n",
    "    threshold=0.0,\n",
    ")\n",
    "print()\n",
    "print(f\"Min payload: {min_payload.encode('utf-8')}\")\n",
    "print(f\"Min confidence: {round(min_confidence, 5)}\")\n",
    "print(\n",
    "    f\"Reduced confidence from {round(is_attack, 5)} to {round(min_confidence, 5)} (reduction of {round(is_attack - min_confidence, 5)})\"\n",
    ")\n",
    "\n",
    "print(\"\\nEvasion successful\" if min_confidence < threshold else \"Evasion failed\")"
   ]
  }
 ],
 "metadata": {
  "kernelspec": {
   "display_name": "Python 3 (ipykernel)",
   "language": "python",
   "name": "python3"
  },
  "language_info": {
   "codemirror_mode": {
    "name": "ipython",
    "version": 3
   },
   "file_extension": ".py",
   "mimetype": "text/x-python",
   "name": "python",
   "nbconvert_exporter": "python",
   "pygments_lexer": "ipython3",
   "version": "3.8.18"
  }
 },
 "nbformat": 4,
 "nbformat_minor": 4
}
