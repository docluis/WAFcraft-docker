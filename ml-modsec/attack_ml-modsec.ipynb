{
 "cells": [
  {
   "cell_type": "code",
   "execution_count": 1,
   "metadata": {},
   "outputs": [],
   "source": [
    "# Imports\n",
    "\n",
    "import base64\n",
    "import numpy as np\n",
    "from utils import get_rules_list, create_train_test_split, payload_to_vec, predict_vec\n",
    "from modsec import init_modsec\n",
    "\n",
    "from sklearn.ensemble import RandomForestClassifier\n",
    "from sklearn.metrics import classification_report, roc_curve\n",
    "from wafamole.models import Model\n",
    "from wafamole.evasion import EvasionEngine\n",
    "from sklearn.preprocessing import LabelEncoder"
   ]
  },
  {
   "cell_type": "code",
   "execution_count": 2,
   "metadata": {},
   "outputs": [],
   "source": [
    "# Set up variables\n",
    "\n",
    "# TODO: handle large files\n",
    "attack_data_path = \"data/attacks_20k.sql\"\n",
    "sane_data_path = \"data/sanes_20k.sql\"\n",
    "\n",
    "rule_ids = get_rules_list()\n",
    "modsec = init_modsec()"
   ]
  },
  {
   "cell_type": "code",
   "execution_count": 3,
   "metadata": {},
   "outputs": [
    {
     "name": "stdout",
     "output_type": "stream",
     "text": [
      "Reading and parsing data...\n",
      "Full data shape: (13504, 2)\n",
      "Splitting into train and test...\n",
      "Creating vectors...\n"
     ]
    },
    {
     "name": "stderr",
     "output_type": "stream",
     "text": [
      "Processing payloads: 100%|██████████| 5000/5000 [01:28<00:00, 56.51it/s]\n",
      "Processing payloads: 100%|██████████| 1000/1000 [00:37<00:00, 26.62it/s]\n"
     ]
    },
    {
     "name": "stdout",
     "output_type": "stream",
     "text": [
      "Done!\n",
      "Train shape: (5000, 3) | Test shape: (1000, 3)\n",
      "Model trained successfully!\n",
      "              precision    recall  f1-score   support\n",
      "\n",
      "      attack       0.96      0.94      0.95       516\n",
      "        sane       0.94      0.96      0.95       484\n",
      "\n",
      "    accuracy                           0.95      1000\n",
      "   macro avg       0.95      0.95      0.95      1000\n",
      "weighted avg       0.95      0.95      0.95      1000\n",
      "\n"
     ]
    }
   ],
   "source": [
    "# Create train and test datasets OR load them from disk\n",
    "\n",
    "train, test = create_train_test_split(\n",
    "    attack_file=attack_data_path,\n",
    "    sane_file=sane_data_path,\n",
    "    train_size=5000,\n",
    "    test_size=1000,\n",
    "    modsec=modsec,\n",
    "    rule_ids=rule_ids,\n",
    ")\n",
    "\n",
    "# Create a RF model\n",
    "\n",
    "X_train = list(train[\"vector\"])\n",
    "y_train = train[\"label\"]\n",
    "X_test = list(test[\"vector\"])\n",
    "y_test = test[\"label\"]\n",
    "\n",
    "# create and train the Random Forest model\n",
    "# number of trees is set to 160 for PLs other than PL1 as per the paper\n",
    "model = RandomForestClassifier(n_estimators=160, random_state=666)\n",
    "model.fit(X_train, y_train)\n",
    "print(\"Model trained successfully!\")\n",
    "\n",
    "print(classification_report(y_test, model.predict(X_test)))\n",
    "\n",
    "# free the memory of unneeded data\n",
    "# del train, test\n",
    "# del X_train, y_train, X_test, y_test"
   ]
  },
  {
   "cell_type": "code",
   "execution_count": 14,
   "metadata": {},
   "outputs": [
    {
     "name": "stdout",
     "output_type": "stream",
     "text": [
      "              precision    recall  f1-score   support\n",
      "\n",
      "           0       0.86      0.99      0.92       516\n",
      "           1       0.99      0.83      0.90       484\n",
      "\n",
      "    accuracy                           0.91      1000\n",
      "   macro avg       0.92      0.91      0.91      1000\n",
      "weighted avg       0.92      0.91      0.91      1000\n",
      "\n"
     ]
    }
   ],
   "source": [
    "# Here we can adjust the false positive rate (FPR) of the model\n",
    "\n",
    "# Convert categorical labels to binary labels\n",
    "# 'attack' is considered the positive class (1) and 'sane' is the negative class (0)\n",
    "label_encoder = LabelEncoder()\n",
    "binary_y_test = label_encoder.fit_transform(y_test)\n",
    "\n",
    "# Use predict_proba to get probabilities\n",
    "probabilities = model.predict_proba(X_test)[:, 1]  # Probabilities of the positive class\n",
    "\n",
    "# Calculate ROC curve\n",
    "fpr, tpr, thresholds = roc_curve(binary_y_test, probabilities)\n",
    "\n",
    "# Find the threshold closest to your desired FPR (1%)\n",
    "# when the model now predicts an instance as 'attack', it is correct 99% of the time, false 1% of the time\n",
    "desired_fpr = 0.01\n",
    "closest_idx = np.argmin(np.abs(fpr - desired_fpr))\n",
    "threshold = thresholds[closest_idx]\n",
    "adjusted_predictions = (probabilities >= threshold).astype(int)\n",
    "\n",
    "print(classification_report(binary_y_test, adjusted_predictions))"
   ]
  },
  {
   "cell_type": "code",
   "execution_count": 5,
   "metadata": {},
   "outputs": [],
   "source": [
    "# Create WAFamole model\n",
    "class WAFamoleModel(Model):\n",
    "    # TODO: rework predict payload to take vec ?\n",
    "    def extract_features(self, value: str):\n",
    "        payload_base64 = base64.b64encode(value.encode(\"utf-8\")).decode(\"utf-8\")\n",
    "        return payload_to_vec(\n",
    "            payload_base64=payload_base64, rule_ids=rule_ids, modsec=modsec\n",
    "        )\n",
    "\n",
    "    def classify(self, value: str):\n",
    "        vec = self.extract_features(value)\n",
    "        return predict_vec(\n",
    "            vec=vec,\n",
    "            model=model,\n",
    "            rule_ids=rule_ids,\n",
    "            modsec=modsec,\n",
    "        )"
   ]
  },
  {
   "cell_type": "code",
   "execution_count": 6,
   "metadata": {},
   "outputs": [],
   "source": [
    "# Create WAFamole evasion engine\n",
    "wafamole_model = WAFamoleModel()\n",
    "engine = EvasionEngine(wafamole_model)"
   ]
  },
  {
   "cell_type": "code",
   "execution_count": 7,
   "metadata": {},
   "outputs": [
    {
     "name": "stdout",
     "output_type": "stream",
     "text": [
      "Payload: SELECT SLEEP(5)#\";\n",
      "Vec: [0 0 0 0 0 0 0 0 1 0 0 0 0 0 0 1 0 0 1 1 1 0 0 0 0 0 0 0 0 0 0 0 0 0 0 0 0\n",
      " 1 0 0 0 0 0 1 0 0 0 1 0 0 0 0 1 0 0 1 0 0 0 0 0 0 0 0 0 0 1 0 0]\n",
      "Confidence: 0.98302\n"
     ]
    }
   ],
   "source": [
    "# payload = \"UPDATE `tab` SET `col1` = 1 WHERE `col3` >= 1110573056 LIMIT 516358144;\" # sane\n",
    "# payload = \"SELECT `col1` FROM `tab` WHERE `col1` LIKE '%'s'%';\" # attack\n",
    "payload = 'SELECT SLEEP(5)#\";'  # attack\n",
    "\n",
    "\n",
    "# Test payload without evasion\n",
    "payload_base64 = base64.b64encode(payload.encode(\"utf-8\")).decode(\"utf-8\")\n",
    "vec = payload_to_vec(payload_base64, rule_ids, modsec)\n",
    "is_attack = predict_vec(\n",
    "    vec=vec,\n",
    "    model=model,\n",
    "    rule_ids=rule_ids,\n",
    "    modsec=modsec,\n",
    ")\n",
    "print(f\"Payload: {payload}\")\n",
    "print(f\"Vec: {vec}\")\n",
    "print(f\"Confidence: {round(is_attack, 5)}\")"
   ]
  },
  {
   "cell_type": "code",
   "execution_count": 8,
   "metadata": {},
   "outputs": [
    {
     "name": "stdout",
     "output_type": "stream",
     "text": [
      "[!] Execution timed out\n",
      "Reached confidence 0.5764273185806232\n",
      "with payload\n",
      "SELECT SLEEP(0x5) || 0x0 OR False#\";~@\\|&\n",
      "49N\n",
      "\n",
      "Min payload: b'SELECT SLEEP(0x5) || 0x0 OR False#\";~@\\\\|&\\n49N'\n",
      "Min confidence: 0.57643\n",
      "\n",
      "Reduced confidence from 0.98302 to 0.57643 (reduction of 0.40659)\n"
     ]
    }
   ],
   "source": [
    "# Try and evade the WAF with WAFamole\n",
    "\n",
    "min_confidence, min_payload = engine.evaluate(\n",
    "    payload=payload,\n",
    "    max_rounds=200,\n",
    "    round_size=10,\n",
    "    timeout=60,\n",
    "    threshold=0.5,\n",
    ")\n",
    "print()\n",
    "print(f\"Min payload: {min_payload.encode('utf-8')}\")\n",
    "print(f\"Min confidence: {round(min_confidence, 5)}\")\n",
    "print()\n",
    "print(\n",
    "    f\"Reduced confidence from {round(is_attack, 5)} to {round(min_confidence, 5)} (reduction of {round(is_attack - min_confidence, 5)})\"\n",
    ")"
   ]
  }
 ],
 "metadata": {
  "kernelspec": {
   "display_name": "Python 3 (ipykernel)",
   "language": "python",
   "name": "python3"
  },
  "language_info": {
   "codemirror_mode": {
    "name": "ipython",
    "version": 3
   },
   "file_extension": ".py",
   "mimetype": "text/x-python",
   "name": "python",
   "nbconvert_exporter": "python",
   "pygments_lexer": "ipython3",
   "version": "3.8.18"
  }
 },
 "nbformat": 4,
 "nbformat_minor": 4
}
