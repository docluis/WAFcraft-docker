{
 "cells": [
  {
   "cell_type": "code",
   "execution_count": 1,
   "metadata": {},
   "outputs": [],
   "source": [
    "# Imports\n",
    "import pandas as pd  # type: ignore\n",
    "import numpy as np  # type: ignore\n",
    "import base64\n",
    "from utils import (\n",
    "    get_rules_list,\n",
    "    create_train_test_split,\n",
    "    create_model,\n",
    "    payload_to_vec,\n",
    "    create_adv_train_test_split,\n",
    "    test_evasion,\n",
    "    notify,\n",
    ")\n",
    "from modsec import init_modsec\n",
    "\n",
    "from sklearn.ensemble import RandomForestClassifier  # type: ignore\n",
    "from wafamole.evasion import EvasionEngine  # type: ignore\n",
    "\n",
    "notify(\"Starting...\")"
   ]
  },
  {
   "cell_type": "code",
   "execution_count": 2,
   "metadata": {},
   "outputs": [],
   "source": [
    "# Set up variables\n",
    "\n",
    "attack_data_path = \"data/attacks_full.sql\"\n",
    "sane_data_path = \"data/sanes_full.sql\"\n",
    "\n",
    "rule_ids = get_rules_list()\n",
    "modsec = init_modsec()"
   ]
  },
  {
   "cell_type": "code",
   "execution_count": 3,
   "metadata": {},
   "outputs": [
    {
     "name": "stdout",
     "output_type": "stream",
     "text": [
      "Reading and parsing data...\n",
      "Splitting into train and test...\n",
      "Creating vectors...\n",
      "Processing payloads:  90%|█████████ | 1802/2000 [00:56<00:06, 31.85it/s]\n"
     ]
    },
    {
     "name": "stderr",
     "output_type": "stream",
     "text": [
      "Processing payloads:   8%|▊         | 153/2000 [00:03<00:40, 45.88it/s]"
     ]
    },
    {
     "ename": "KeyboardInterrupt",
     "evalue": "",
     "output_type": "error",
     "traceback": [
      "\u001b[0;31m---------------------------------------------------------------------------\u001b[0m",
      "\u001b[0;31mKeyboardInterrupt\u001b[0m                         Traceback (most recent call last)",
      "Cell \u001b[0;32mIn[3], line 5\u001b[0m\n\u001b[1;32m      1\u001b[0m \u001b[38;5;66;03m# Create train and test sets and train model\u001b[39;00m\n\u001b[1;32m      3\u001b[0m paranoia_level \u001b[38;5;241m=\u001b[39m \u001b[38;5;241m4\u001b[39m\n\u001b[0;32m----> 5\u001b[0m train, test \u001b[38;5;241m=\u001b[39m \u001b[43mcreate_train_test_split\u001b[49m\u001b[43m(\u001b[49m\n\u001b[1;32m      6\u001b[0m \u001b[43m    \u001b[49m\u001b[43mattack_file\u001b[49m\u001b[38;5;241;43m=\u001b[39;49m\u001b[43mattack_data_path\u001b[49m\u001b[43m,\u001b[49m\n\u001b[1;32m      7\u001b[0m \u001b[43m    \u001b[49m\u001b[43msane_file\u001b[49m\u001b[38;5;241;43m=\u001b[39;49m\u001b[43msane_data_path\u001b[49m\u001b[43m,\u001b[49m\n\u001b[1;32m      8\u001b[0m \u001b[43m    \u001b[49m\u001b[43mtrain_attacks_size\u001b[49m\u001b[38;5;241;43m=\u001b[39;49m\u001b[38;5;241;43m1000\u001b[39;49m\u001b[43m,\u001b[49m\u001b[43m  \u001b[49m\u001b[38;5;66;43;03m# paper uses 10000\u001b[39;49;00m\n\u001b[1;32m      9\u001b[0m \u001b[43m    \u001b[49m\u001b[43mtrain_sanes_size\u001b[49m\u001b[38;5;241;43m=\u001b[39;49m\u001b[38;5;241;43m1000\u001b[39;49m\u001b[43m,\u001b[49m\u001b[43m  \u001b[49m\u001b[38;5;66;43;03m# paper uses 10000\u001b[39;49;00m\n\u001b[1;32m     10\u001b[0m \u001b[43m    \u001b[49m\u001b[43mtest_attacks_size\u001b[49m\u001b[38;5;241;43m=\u001b[39;49m\u001b[38;5;241;43m1000\u001b[39;49m\u001b[43m,\u001b[49m\u001b[43m  \u001b[49m\u001b[38;5;66;43;03m# paper uses 2000\u001b[39;49;00m\n\u001b[1;32m     11\u001b[0m \u001b[43m    \u001b[49m\u001b[43mtest_sanes_size\u001b[49m\u001b[38;5;241;43m=\u001b[39;49m\u001b[38;5;241;43m1000\u001b[39;49m\u001b[43m,\u001b[49m\u001b[43m  \u001b[49m\u001b[38;5;66;43;03m# paper uses 2000\u001b[39;49;00m\n\u001b[1;32m     12\u001b[0m \u001b[43m    \u001b[49m\u001b[43mmodsec\u001b[49m\u001b[38;5;241;43m=\u001b[39;49m\u001b[43mmodsec\u001b[49m\u001b[43m,\u001b[49m\n\u001b[1;32m     13\u001b[0m \u001b[43m    \u001b[49m\u001b[43mrule_ids\u001b[49m\u001b[38;5;241;43m=\u001b[39;49m\u001b[43mrule_ids\u001b[49m\u001b[43m,\u001b[49m\n\u001b[1;32m     14\u001b[0m \u001b[43m    \u001b[49m\u001b[43mparanoia_level\u001b[49m\u001b[38;5;241;43m=\u001b[39;49m\u001b[43mparanoia_level\u001b[49m\u001b[43m,\u001b[49m\n\u001b[1;32m     15\u001b[0m \u001b[43m)\u001b[49m\n\u001b[1;32m     16\u001b[0m train\u001b[38;5;241m.\u001b[39mto_csv(\u001b[38;5;124m\"\u001b[39m\u001b[38;5;124mdata/train_10k.csv\u001b[39m\u001b[38;5;124m\"\u001b[39m, index\u001b[38;5;241m=\u001b[39m\u001b[38;5;28;01mFalse\u001b[39;00m)\n\u001b[1;32m     17\u001b[0m test\u001b[38;5;241m.\u001b[39mto_csv(\u001b[38;5;124m\"\u001b[39m\u001b[38;5;124mdata/test_2k.csv\u001b[39m\u001b[38;5;124m\"\u001b[39m, index\u001b[38;5;241m=\u001b[39m\u001b[38;5;28;01mFalse\u001b[39;00m)\n",
      "File \u001b[0;32m/app/ml-modsec/utils.py:156\u001b[0m, in \u001b[0;36mcreate_train_test_split\u001b[0;34m(attack_file, sane_file, train_attacks_size, train_sanes_size, test_attacks_size, test_sanes_size, modsec, rule_ids, paranoia_level)\u001b[0m\n\u001b[1;32m    154\u001b[0m \u001b[38;5;66;03m# Add vector for payloads in train and test\u001b[39;00m\n\u001b[1;32m    155\u001b[0m \u001b[38;5;28mprint\u001b[39m(\u001b[38;5;124m\"\u001b[39m\u001b[38;5;124mCreating vectors...\u001b[39m\u001b[38;5;124m\"\u001b[39m)\n\u001b[0;32m--> 156\u001b[0m train \u001b[38;5;241m=\u001b[39m \u001b[43madd_vec\u001b[49m\u001b[43m(\u001b[49m\u001b[43mtrain\u001b[49m\u001b[43m,\u001b[49m\u001b[43m \u001b[49m\u001b[43mrule_ids\u001b[49m\u001b[43m,\u001b[49m\u001b[43m \u001b[49m\u001b[43mmodsec\u001b[49m\u001b[43m,\u001b[49m\u001b[43m \u001b[49m\u001b[43mparanoia_level\u001b[49m\u001b[43m)\u001b[49m\n\u001b[1;32m    157\u001b[0m test \u001b[38;5;241m=\u001b[39m add_vec(test, rule_ids, modsec, paranoia_level)\n\u001b[1;32m    159\u001b[0m \u001b[38;5;28mprint\u001b[39m(\u001b[38;5;124m\"\u001b[39m\u001b[38;5;124mDone!\u001b[39m\u001b[38;5;124m\"\u001b[39m)\n",
      "File \u001b[0;32m/app/ml-modsec/utils.py:81\u001b[0m, in \u001b[0;36madd_vec\u001b[0;34m(data, rule_ids, modsec, paranoia_level)\u001b[0m\n\u001b[1;32m     68\u001b[0m \u001b[38;5;250m\u001b[39m\u001b[38;5;124;03m\"\"\"\u001b[39;00m\n\u001b[1;32m     69\u001b[0m \u001b[38;5;124;03mReturns a dataframe with vectorized payloads\u001b[39;00m\n\u001b[1;32m     70\u001b[0m \n\u001b[0;32m   (...)\u001b[0m\n\u001b[1;32m     78\u001b[0m \u001b[38;5;124;03m    pd.DataFrame: Dataframe with vectorized payloads\u001b[39;00m\n\u001b[1;32m     79\u001b[0m \u001b[38;5;124;03m\"\"\"\u001b[39;00m\n\u001b[1;32m     80\u001b[0m tqdm\u001b[38;5;241m.\u001b[39mpandas(desc\u001b[38;5;241m=\u001b[39m\u001b[38;5;124m\"\u001b[39m\u001b[38;5;124mProcessing payloads\u001b[39m\u001b[38;5;124m\"\u001b[39m)\n\u001b[0;32m---> 81\u001b[0m data[\u001b[38;5;124m\"\u001b[39m\u001b[38;5;124mvector\u001b[39m\u001b[38;5;124m\"\u001b[39m] \u001b[38;5;241m=\u001b[39m \u001b[43mdata\u001b[49m\u001b[43m[\u001b[49m\u001b[38;5;124;43m\"\u001b[39;49m\u001b[38;5;124;43mdata\u001b[39;49m\u001b[38;5;124;43m\"\u001b[39;49m\u001b[43m]\u001b[49m\u001b[38;5;241;43m.\u001b[39;49m\u001b[43mprogress_apply\u001b[49m\u001b[43m(\u001b[49m\n\u001b[1;32m     82\u001b[0m \u001b[43m    \u001b[49m\u001b[38;5;28;43;01mlambda\u001b[39;49;00m\u001b[43m \u001b[49m\u001b[43mx\u001b[49m\u001b[43m:\u001b[49m\u001b[43m \u001b[49m\u001b[43mpayload_to_vec\u001b[49m\u001b[43m(\u001b[49m\u001b[43mx\u001b[49m\u001b[43m,\u001b[49m\u001b[43m \u001b[49m\u001b[43mrule_ids\u001b[49m\u001b[43m,\u001b[49m\u001b[43m \u001b[49m\u001b[43mmodsec\u001b[49m\u001b[43m,\u001b[49m\u001b[43m \u001b[49m\u001b[43mparanoia_level\u001b[49m\u001b[43m)\u001b[49m\n\u001b[1;32m     83\u001b[0m \u001b[43m\u001b[49m\u001b[43m)\u001b[49m\n\u001b[1;32m     84\u001b[0m \u001b[38;5;28;01mreturn\u001b[39;00m data\n",
      "File \u001b[0;32m/usr/local/lib/python3.8/site-packages/tqdm/std.py:917\u001b[0m, in \u001b[0;36mtqdm.pandas.<locals>.inner_generator.<locals>.inner\u001b[0;34m(df, func, *args, **kwargs)\u001b[0m\n\u001b[1;32m    914\u001b[0m \u001b[38;5;66;03m# Apply the provided function (in **kwargs)\u001b[39;00m\n\u001b[1;32m    915\u001b[0m \u001b[38;5;66;03m# on the df using our wrapper (which provides bar updating)\u001b[39;00m\n\u001b[1;32m    916\u001b[0m \u001b[38;5;28;01mtry\u001b[39;00m:\n\u001b[0;32m--> 917\u001b[0m     \u001b[38;5;28;01mreturn\u001b[39;00m \u001b[38;5;28;43mgetattr\u001b[39;49m\u001b[43m(\u001b[49m\u001b[43mdf\u001b[49m\u001b[43m,\u001b[49m\u001b[43m \u001b[49m\u001b[43mdf_function\u001b[49m\u001b[43m)\u001b[49m\u001b[43m(\u001b[49m\u001b[43mwrapper\u001b[49m\u001b[43m,\u001b[49m\u001b[43m \u001b[49m\u001b[38;5;241;43m*\u001b[39;49m\u001b[38;5;241;43m*\u001b[39;49m\u001b[43mkwargs\u001b[49m\u001b[43m)\u001b[49m\n\u001b[1;32m    918\u001b[0m \u001b[38;5;28;01mfinally\u001b[39;00m:\n\u001b[1;32m    919\u001b[0m     t\u001b[38;5;241m.\u001b[39mclose()\n",
      "File \u001b[0;32m/usr/local/lib/python3.8/site-packages/pandas/core/series.py:4630\u001b[0m, in \u001b[0;36mSeries.apply\u001b[0;34m(self, func, convert_dtype, args, **kwargs)\u001b[0m\n\u001b[1;32m   4520\u001b[0m \u001b[38;5;28;01mdef\u001b[39;00m \u001b[38;5;21mapply\u001b[39m(\n\u001b[1;32m   4521\u001b[0m     \u001b[38;5;28mself\u001b[39m,\n\u001b[1;32m   4522\u001b[0m     func: AggFuncType,\n\u001b[0;32m   (...)\u001b[0m\n\u001b[1;32m   4525\u001b[0m     \u001b[38;5;241m*\u001b[39m\u001b[38;5;241m*\u001b[39mkwargs,\n\u001b[1;32m   4526\u001b[0m ) \u001b[38;5;241m-\u001b[39m\u001b[38;5;241m>\u001b[39m DataFrame \u001b[38;5;241m|\u001b[39m Series:\n\u001b[1;32m   4527\u001b[0m \u001b[38;5;250m    \u001b[39m\u001b[38;5;124;03m\"\"\"\u001b[39;00m\n\u001b[1;32m   4528\u001b[0m \u001b[38;5;124;03m    Invoke function on values of Series.\u001b[39;00m\n\u001b[1;32m   4529\u001b[0m \n\u001b[0;32m   (...)\u001b[0m\n\u001b[1;32m   4628\u001b[0m \u001b[38;5;124;03m    dtype: float64\u001b[39;00m\n\u001b[1;32m   4629\u001b[0m \u001b[38;5;124;03m    \"\"\"\u001b[39;00m\n\u001b[0;32m-> 4630\u001b[0m     \u001b[38;5;28;01mreturn\u001b[39;00m \u001b[43mSeriesApply\u001b[49m\u001b[43m(\u001b[49m\u001b[38;5;28;43mself\u001b[39;49m\u001b[43m,\u001b[49m\u001b[43m \u001b[49m\u001b[43mfunc\u001b[49m\u001b[43m,\u001b[49m\u001b[43m \u001b[49m\u001b[43mconvert_dtype\u001b[49m\u001b[43m,\u001b[49m\u001b[43m \u001b[49m\u001b[43margs\u001b[49m\u001b[43m,\u001b[49m\u001b[43m \u001b[49m\u001b[43mkwargs\u001b[49m\u001b[43m)\u001b[49m\u001b[38;5;241;43m.\u001b[39;49m\u001b[43mapply\u001b[49m\u001b[43m(\u001b[49m\u001b[43m)\u001b[49m\n",
      "File \u001b[0;32m/usr/local/lib/python3.8/site-packages/pandas/core/apply.py:1025\u001b[0m, in \u001b[0;36mSeriesApply.apply\u001b[0;34m(self)\u001b[0m\n\u001b[1;32m   1022\u001b[0m     \u001b[38;5;28;01mreturn\u001b[39;00m \u001b[38;5;28mself\u001b[39m\u001b[38;5;241m.\u001b[39mapply_str()\n\u001b[1;32m   1024\u001b[0m \u001b[38;5;66;03m# self.f is Callable\u001b[39;00m\n\u001b[0;32m-> 1025\u001b[0m \u001b[38;5;28;01mreturn\u001b[39;00m \u001b[38;5;28;43mself\u001b[39;49m\u001b[38;5;241;43m.\u001b[39;49m\u001b[43mapply_standard\u001b[49m\u001b[43m(\u001b[49m\u001b[43m)\u001b[49m\n",
      "File \u001b[0;32m/usr/local/lib/python3.8/site-packages/pandas/core/apply.py:1076\u001b[0m, in \u001b[0;36mSeriesApply.apply_standard\u001b[0;34m(self)\u001b[0m\n\u001b[1;32m   1074\u001b[0m     \u001b[38;5;28;01melse\u001b[39;00m:\n\u001b[1;32m   1075\u001b[0m         values \u001b[38;5;241m=\u001b[39m obj\u001b[38;5;241m.\u001b[39mastype(\u001b[38;5;28mobject\u001b[39m)\u001b[38;5;241m.\u001b[39m_values\n\u001b[0;32m-> 1076\u001b[0m         mapped \u001b[38;5;241m=\u001b[39m \u001b[43mlib\u001b[49m\u001b[38;5;241;43m.\u001b[39;49m\u001b[43mmap_infer\u001b[49m\u001b[43m(\u001b[49m\n\u001b[1;32m   1077\u001b[0m \u001b[43m            \u001b[49m\u001b[43mvalues\u001b[49m\u001b[43m,\u001b[49m\n\u001b[1;32m   1078\u001b[0m \u001b[43m            \u001b[49m\u001b[43mf\u001b[49m\u001b[43m,\u001b[49m\n\u001b[1;32m   1079\u001b[0m \u001b[43m            \u001b[49m\u001b[43mconvert\u001b[49m\u001b[38;5;241;43m=\u001b[39;49m\u001b[38;5;28;43mself\u001b[39;49m\u001b[38;5;241;43m.\u001b[39;49m\u001b[43mconvert_dtype\u001b[49m\u001b[43m,\u001b[49m\n\u001b[1;32m   1080\u001b[0m \u001b[43m        \u001b[49m\u001b[43m)\u001b[49m\n\u001b[1;32m   1082\u001b[0m \u001b[38;5;28;01mif\u001b[39;00m \u001b[38;5;28mlen\u001b[39m(mapped) \u001b[38;5;129;01mand\u001b[39;00m \u001b[38;5;28misinstance\u001b[39m(mapped[\u001b[38;5;241m0\u001b[39m], ABCSeries):\n\u001b[1;32m   1083\u001b[0m     \u001b[38;5;66;03m# GH#43986 Need to do list(mapped) in order to get treated as nested\u001b[39;00m\n\u001b[1;32m   1084\u001b[0m     \u001b[38;5;66;03m#  See also GH#25959 regarding EA support\u001b[39;00m\n\u001b[1;32m   1085\u001b[0m     \u001b[38;5;28;01mreturn\u001b[39;00m obj\u001b[38;5;241m.\u001b[39m_constructor_expanddim(\u001b[38;5;28mlist\u001b[39m(mapped), index\u001b[38;5;241m=\u001b[39mobj\u001b[38;5;241m.\u001b[39mindex)\n",
      "File \u001b[0;32m/usr/local/lib/python3.8/site-packages/pandas/_libs/lib.pyx:2834\u001b[0m, in \u001b[0;36mpandas._libs.lib.map_infer\u001b[0;34m()\u001b[0m\n",
      "File \u001b[0;32m/usr/local/lib/python3.8/site-packages/tqdm/std.py:912\u001b[0m, in \u001b[0;36mtqdm.pandas.<locals>.inner_generator.<locals>.inner.<locals>.wrapper\u001b[0;34m(*args, **kwargs)\u001b[0m\n\u001b[1;32m    906\u001b[0m \u001b[38;5;28;01mdef\u001b[39;00m \u001b[38;5;21mwrapper\u001b[39m(\u001b[38;5;241m*\u001b[39margs, \u001b[38;5;241m*\u001b[39m\u001b[38;5;241m*\u001b[39mkwargs):\n\u001b[1;32m    907\u001b[0m     \u001b[38;5;66;03m# update tbar correctly\u001b[39;00m\n\u001b[1;32m    908\u001b[0m     \u001b[38;5;66;03m# it seems `pandas apply` calls `func` twice\u001b[39;00m\n\u001b[1;32m    909\u001b[0m     \u001b[38;5;66;03m# on the first column/row to decide whether it can\u001b[39;00m\n\u001b[1;32m    910\u001b[0m     \u001b[38;5;66;03m# take a fast or slow code path; so stop when t.total==t.n\u001b[39;00m\n\u001b[1;32m    911\u001b[0m     t\u001b[38;5;241m.\u001b[39mupdate(n\u001b[38;5;241m=\u001b[39m\u001b[38;5;241m1\u001b[39m \u001b[38;5;28;01mif\u001b[39;00m \u001b[38;5;129;01mnot\u001b[39;00m t\u001b[38;5;241m.\u001b[39mtotal \u001b[38;5;129;01mor\u001b[39;00m t\u001b[38;5;241m.\u001b[39mn \u001b[38;5;241m<\u001b[39m t\u001b[38;5;241m.\u001b[39mtotal \u001b[38;5;28;01melse\u001b[39;00m \u001b[38;5;241m0\u001b[39m)\n\u001b[0;32m--> 912\u001b[0m     \u001b[38;5;28;01mreturn\u001b[39;00m \u001b[43mfunc\u001b[49m\u001b[43m(\u001b[49m\u001b[38;5;241;43m*\u001b[39;49m\u001b[43margs\u001b[49m\u001b[43m,\u001b[49m\u001b[43m \u001b[49m\u001b[38;5;241;43m*\u001b[39;49m\u001b[38;5;241;43m*\u001b[39;49m\u001b[43mkwargs\u001b[49m\u001b[43m)\u001b[49m\n",
      "File \u001b[0;32m/app/ml-modsec/utils.py:82\u001b[0m, in \u001b[0;36madd_vec.<locals>.<lambda>\u001b[0;34m(x)\u001b[0m\n\u001b[1;32m     68\u001b[0m \u001b[38;5;250m\u001b[39m\u001b[38;5;124;03m\"\"\"\u001b[39;00m\n\u001b[1;32m     69\u001b[0m \u001b[38;5;124;03mReturns a dataframe with vectorized payloads\u001b[39;00m\n\u001b[1;32m     70\u001b[0m \n\u001b[0;32m   (...)\u001b[0m\n\u001b[1;32m     78\u001b[0m \u001b[38;5;124;03m    pd.DataFrame: Dataframe with vectorized payloads\u001b[39;00m\n\u001b[1;32m     79\u001b[0m \u001b[38;5;124;03m\"\"\"\u001b[39;00m\n\u001b[1;32m     80\u001b[0m tqdm\u001b[38;5;241m.\u001b[39mpandas(desc\u001b[38;5;241m=\u001b[39m\u001b[38;5;124m\"\u001b[39m\u001b[38;5;124mProcessing payloads\u001b[39m\u001b[38;5;124m\"\u001b[39m)\n\u001b[1;32m     81\u001b[0m data[\u001b[38;5;124m\"\u001b[39m\u001b[38;5;124mvector\u001b[39m\u001b[38;5;124m\"\u001b[39m] \u001b[38;5;241m=\u001b[39m data[\u001b[38;5;124m\"\u001b[39m\u001b[38;5;124mdata\u001b[39m\u001b[38;5;124m\"\u001b[39m]\u001b[38;5;241m.\u001b[39mprogress_apply(\n\u001b[0;32m---> 82\u001b[0m     \u001b[38;5;28;01mlambda\u001b[39;00m x: \u001b[43mpayload_to_vec\u001b[49m\u001b[43m(\u001b[49m\u001b[43mx\u001b[49m\u001b[43m,\u001b[49m\u001b[43m \u001b[49m\u001b[43mrule_ids\u001b[49m\u001b[43m,\u001b[49m\u001b[43m \u001b[49m\u001b[43mmodsec\u001b[49m\u001b[43m,\u001b[49m\u001b[43m \u001b[49m\u001b[43mparanoia_level\u001b[49m\u001b[43m)\u001b[49m\n\u001b[1;32m     83\u001b[0m )\n\u001b[1;32m     84\u001b[0m \u001b[38;5;28;01mreturn\u001b[39;00m data\n",
      "File \u001b[0;32m/app/ml-modsec/utils.py:59\u001b[0m, in \u001b[0;36mpayload_to_vec\u001b[0;34m(payload_base64, rule_ids, modsec, paranoia_level)\u001b[0m\n\u001b[1;32m     45\u001b[0m \u001b[38;5;28;01mdef\u001b[39;00m \u001b[38;5;21mpayload_to_vec\u001b[39m(payload_base64, rule_ids, modsec, paranoia_level):\n\u001b[1;32m     46\u001b[0m \u001b[38;5;250m    \u001b[39m\u001b[38;5;124;03m\"\"\"\u001b[39;00m\n\u001b[1;32m     47\u001b[0m \u001b[38;5;124;03m    Returns a vectorized representation of a payload based on the activated rules\u001b[39;00m\n\u001b[1;32m     48\u001b[0m \n\u001b[0;32m   (...)\u001b[0m\n\u001b[1;32m     56\u001b[0m \u001b[38;5;124;03m        numpy.ndarray: Vectorized payload\u001b[39;00m\n\u001b[1;32m     57\u001b[0m \u001b[38;5;124;03m    \"\"\"\u001b[39;00m\n\u001b[0;32m---> 59\u001b[0m     matches \u001b[38;5;241m=\u001b[39m \u001b[43mget_activated_rules\u001b[49m\u001b[43m(\u001b[49m\n\u001b[1;32m     60\u001b[0m \u001b[43m        \u001b[49m\u001b[43mpayloads_base64\u001b[49m\u001b[38;5;241;43m=\u001b[39;49m\u001b[43m[\u001b[49m\u001b[43mpayload_base64\u001b[49m\u001b[43m]\u001b[49m\u001b[43m,\u001b[49m\u001b[43m \u001b[49m\u001b[43mmodsec\u001b[49m\u001b[38;5;241;43m=\u001b[39;49m\u001b[43mmodsec\u001b[49m\u001b[43m,\u001b[49m\u001b[43m \u001b[49m\u001b[43mparanoia_level\u001b[49m\u001b[38;5;241;43m=\u001b[39;49m\u001b[43mparanoia_level\u001b[49m\n\u001b[1;32m     61\u001b[0m \u001b[43m    \u001b[49m\u001b[43m)\u001b[49m\n\u001b[1;32m     62\u001b[0m     \u001b[38;5;66;03m# rule_array as numpy array of 0s and 1s\u001b[39;00m\n\u001b[1;32m     63\u001b[0m     rule_array \u001b[38;5;241m=\u001b[39m [\u001b[38;5;241m1\u001b[39m \u001b[38;5;28;01mif\u001b[39;00m \u001b[38;5;28mint\u001b[39m(rule_id) \u001b[38;5;129;01min\u001b[39;00m \u001b[38;5;28mset\u001b[39m(matches) \u001b[38;5;28;01melse\u001b[39;00m \u001b[38;5;241m0\u001b[39m \u001b[38;5;28;01mfor\u001b[39;00m rule_id \u001b[38;5;129;01min\u001b[39;00m rule_ids]\n",
      "File \u001b[0;32m/app/ml-modsec/modsec.py:123\u001b[0m, in \u001b[0;36mget_activated_rules\u001b[0;34m(payloads_base64, keys, request_body, base_uri, method, headers, paranoia_level, configs, rules_path, verbose, version, logs, modsec)\u001b[0m\n\u001b[1;32m    121\u001b[0m     transaction\u001b[38;5;241m.\u001b[39mappendRequestBody(body)\n\u001b[1;32m    122\u001b[0m     \u001b[38;5;28mprint\u001b[39m(body)\n\u001b[0;32m--> 123\u001b[0m \u001b[43mtransaction\u001b[49m\u001b[38;5;241;43m.\u001b[39;49m\u001b[43mprocessRequestBody\u001b[49m\u001b[43m(\u001b[49m\u001b[43m)\u001b[49m\n\u001b[1;32m    125\u001b[0m activated_rules \u001b[38;5;241m=\u001b[39m []\n\u001b[1;32m    126\u001b[0m \u001b[38;5;28;01mfor\u001b[39;00m rule \u001b[38;5;129;01min\u001b[39;00m transaction\u001b[38;5;241m.\u001b[39mm_rulesMessages:\n",
      "File \u001b[0;32m/app/ml-modsec/modsec.py:78\u001b[0m, in \u001b[0;36mget_activated_rules.<locals>.<lambda>\u001b[0;34m(x, y)\u001b[0m\n\u001b[1;32m     58\u001b[0m \u001b[38;5;28;01mdef\u001b[39;00m \u001b[38;5;21mget_activated_rules\u001b[39m(\n\u001b[1;32m     59\u001b[0m     payloads_base64: List[\u001b[38;5;28mstr\u001b[39m],\n\u001b[1;32m     60\u001b[0m     keys: Optional[List[\u001b[38;5;28mstr\u001b[39m]] \u001b[38;5;241m=\u001b[39m \u001b[38;5;28;01mNone\u001b[39;00m,\n\u001b[0;32m   (...)\u001b[0m\n\u001b[1;32m     74\u001b[0m     modsec: ModSecurity \u001b[38;5;241m=\u001b[39m init_modsec(),\n\u001b[1;32m     75\u001b[0m ):\n\u001b[1;32m     76\u001b[0m     \u001b[38;5;28;01mif\u001b[39;00m \u001b[38;5;129;01mnot\u001b[39;00m logs:\n\u001b[1;32m     77\u001b[0m         \u001b[38;5;66;03m# disable ModSecurity callback logs\u001b[39;00m\n\u001b[0;32m---> 78\u001b[0m         modsec\u001b[38;5;241m.\u001b[39msetServerLogCb2(\u001b[38;5;28;01mlambda\u001b[39;00m x, y: \u001b[38;5;28;01mNone\u001b[39;00m, LogProperty\u001b[38;5;241m.\u001b[39mRuleMessageLogProperty)\n\u001b[1;32m     80\u001b[0m     \u001b[38;5;28;01mif\u001b[39;00m \u001b[38;5;129;01mnot\u001b[39;00m method:\n\u001b[1;32m     81\u001b[0m         method \u001b[38;5;241m=\u001b[39m \u001b[38;5;124m\"\u001b[39m\u001b[38;5;124mPOST\u001b[39m\u001b[38;5;124m\"\u001b[39m \u001b[38;5;28;01mif\u001b[39;00m request_body \u001b[38;5;28;01melse\u001b[39;00m \u001b[38;5;124m\"\u001b[39m\u001b[38;5;124mGET\u001b[39m\u001b[38;5;124m\"\u001b[39m\n",
      "\u001b[0;31mKeyboardInterrupt\u001b[0m: "
     ]
    }
   ],
   "source": [
    "# Create train and test sets and train model\n",
    "\n",
    "paranoia_level = 4\n",
    "\n",
    "train, test = create_train_test_split(\n",
    "    attack_file=attack_data_path,\n",
    "    sane_file=sane_data_path,\n",
    "    train_attacks_size=5000,  # paper uses 10000\n",
    "    train_sanes_size=5000,  # paper uses 10000\n",
    "    test_attacks_size=1000,  # paper uses 2000\n",
    "    test_sanes_size=1000,  # paper uses 2000\n",
    "    modsec=modsec,\n",
    "    rule_ids=rule_ids,\n",
    "    paranoia_level=paranoia_level,\n",
    ")\n",
    "train.to_csv(\"data/train_10k.csv\", index=False)\n",
    "test.to_csv(\"data/test_2k.csv\", index=False)\n",
    "notify(\"Train and test sets created\")\n",
    "\n",
    "# # load the train and test sets from disk\n",
    "# train = pd.read_csv(\"data/train_5k.csv\")\n",
    "# test = pd.read_csv(\"data/test_1k.csv\")\n",
    "# train['vector'] = train['vector'].apply(lambda x: np.fromstring(x[1:-1], sep=' '))\n",
    "# test['vector'] = test['vector'].apply(lambda x: np.fromstring(x[1:-1], sep=' '))\n",
    "\n",
    "wafamole_model, threshold = create_model(\n",
    "    train=train,\n",
    "    test=test,\n",
    "    model=RandomForestClassifier(n_estimators=160, random_state=666),\n",
    "    desired_fpr=0.01,\n",
    "    modsec=modsec,\n",
    "    rule_ids=rule_ids,\n",
    "    paranoia_level=paranoia_level,\n",
    ")"
   ]
  },
  {
   "cell_type": "code",
   "execution_count": null,
   "metadata": {},
   "outputs": [],
   "source": [
    "# adversarial training\n",
    "\n",
    "engine = EvasionEngine(wafamole_model)\n",
    "train_adv, test_adv = create_adv_train_test_split(\n",
    "    train=train,\n",
    "    test=test,\n",
    "    train_adv_size=500, # paper uses 5000 (1/4 of total train set size)\n",
    "    test_adv_size=200, # paper uses 2000 (1/2 of total test set size)\n",
    "    engine=engine,\n",
    "    engine_settings={\n",
    "        \"max_rounds\": 200,\n",
    "        \"round_size\": 10,\n",
    "        \"timeout\": 10,\n",
    "        \"threshold\": threshold,\n",
    "    },\n",
    "    modsec=modsec,\n",
    "    rule_ids=rule_ids,\n",
    "    paranoia_level=paranoia_level,\n",
    ")\n",
    "train_adv.to_csv(\"data/train_adv_500.csv\", index=False)\n",
    "test_adv.to_csv(\"data/test_adv_200.csv\", index=False)\n",
    "notify(\"Adversarial train and test sets created\")\n",
    "\n",
    "# # load the train_adv and test_adv sets from disk\n",
    "# train_adv = pd.read_csv(\"data/train_adv_50.csv\")\n",
    "# test_adv = pd.read_csv(\"data/test_adv_50.csv\")\n",
    "# train_adv['vector'] = train_adv['vector'].apply(lambda x: np.fromstring(x[1:-1], sep=' '))\n",
    "# test_adv['vector'] = test_adv['vector'].apply(lambda x: np.fromstring(x[1:-1], sep=' '))\n",
    "\n",
    "# train new model with train + train_adv\n",
    "wafamole_model_adv, threshold_adv = create_model(\n",
    "    train=pd.concat([train, train_adv]).sample(frac=1).reset_index(drop=True),\n",
    "    test=pd.concat([test, test_adv]).sample(frac=1).reset_index(drop=True),\n",
    "    model=RandomForestClassifier(n_estimators=160, random_state=666),\n",
    "    desired_fpr=0.01,\n",
    "    modsec=modsec,\n",
    "    rule_ids=rule_ids,\n",
    "    paranoia_level=paranoia_level,\n",
    ")"
   ]
  },
  {
   "cell_type": "code",
   "execution_count": null,
   "metadata": {},
   "outputs": [],
   "source": [
    "# Test the model (without adversarial training)\n",
    "test_evasion(\n",
    "    payload='SELECT SLEEP(5)#\";',\n",
    "    threshold=threshold,\n",
    "    model=wafamole_model,\n",
    "    engine=EvasionEngine(wafamole_model),\n",
    "    engine_eval_settings={\n",
    "        \"max_rounds\": 200,\n",
    "        \"round_size\": 10,\n",
    "        \"timeout\": 60,\n",
    "        \"threshold\": 0.0,\n",
    "    },\n",
    "    modsec=modsec,\n",
    "    rule_ids=rule_ids,\n",
    "    paranoia_level=paranoia_level,\n",
    ")"
   ]
  },
  {
   "cell_type": "code",
   "execution_count": null,
   "metadata": {},
   "outputs": [],
   "source": [
    "# Test the model (with adversarial training)\n",
    "test_evasion(\n",
    "    payload='SELECT SLEEP(5)#\";',\n",
    "    threshold=threshold,\n",
    "    model=wafamole_model_adv,\n",
    "    engine=EvasionEngine(wafamole_model_adv),\n",
    "    engine_eval_settings={\n",
    "        \"max_rounds\": 200,\n",
    "        \"round_size\": 10,\n",
    "        \"timeout\": 60,\n",
    "        \"threshold\": 0.0,\n",
    "    },\n",
    "    modsec=modsec,\n",
    "    rule_ids=rule_ids,\n",
    "    paranoia_level=paranoia_level,\n",
    ")"
   ]
  }
 ],
 "metadata": {
  "kernelspec": {
   "display_name": "Python 3 (ipykernel)",
   "language": "python",
   "name": "python3"
  }
 },
 "nbformat": 4,
 "nbformat_minor": 4
}
