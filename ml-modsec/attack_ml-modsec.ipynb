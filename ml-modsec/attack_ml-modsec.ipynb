{
 "cells": [
  {
   "cell_type": "code",
   "execution_count": 7,
   "metadata": {},
   "outputs": [],
   "source": [
    "# Imports\n",
    "import pandas as pd  # type: ignore\n",
    "import numpy as np  # type: ignore\n",
    "import base64\n",
    "from utils import (\n",
    "    get_rules_list,\n",
    "    create_train_test_split,\n",
    "    create_model,\n",
    "    payload_to_vec,\n",
    "    create_adv_train_test_split,\n",
    ")\n",
    "from modsec import init_modsec\n",
    "\n",
    "from sklearn.ensemble import RandomForestClassifier  # type: ignore\n",
    "from wafamole.evasion import EvasionEngine  # type: ignore"
   ]
  },
  {
   "cell_type": "code",
   "execution_count": 8,
   "metadata": {},
   "outputs": [],
   "source": [
    "# Set up variables\n",
    "\n",
    "attack_data_path = \"data/attacks_20k.sql\"\n",
    "sane_data_path = \"data/sanes_20k.sql\"\n",
    "\n",
    "rule_ids = get_rules_list()\n",
    "modsec = init_modsec()"
   ]
  },
  {
   "cell_type": "code",
   "execution_count": 9,
   "metadata": {},
   "outputs": [
    {
     "name": "stdout",
     "output_type": "stream",
     "text": [
      "Model trained successfully!\n",
      "Evaluating model...\n",
      "Default threshold: 0.5\n",
      "              precision    recall  f1-score   support\n",
      "\n",
      "      attack       0.97      0.94      0.95       500\n",
      "        sane       0.94      0.97      0.95       500\n",
      "\n",
      "    accuracy                           0.95      1000\n",
      "   macro avg       0.95      0.95      0.95      1000\n",
      "weighted avg       0.95      0.95      0.95      1000\n",
      "\n",
      "Adjusted threshold: 0.8027458911979671\n",
      "              precision    recall  f1-score   support\n",
      "\n",
      "      attack       0.85      0.99      0.92       500\n",
      "        sane       0.99      0.83      0.90       500\n",
      "\n",
      "    accuracy                           0.91      1000\n",
      "   macro avg       0.92      0.91      0.91      1000\n",
      "weighted avg       0.92      0.91      0.91      1000\n",
      "\n"
     ]
    }
   ],
   "source": [
    "# Create train and test sets and train model\n",
    "\n",
    "paranoia_level = 4\n",
    "\n",
    "# train, test = create_train_test_split(\n",
    "#     attack_file=attack_data_path,\n",
    "#     sane_file=sane_data_path,\n",
    "#     train_attacks_size=2500,  # paper uses 10000\n",
    "#     train_sanes_size=2500,  # paper uses 10000\n",
    "#     test_attacks_size=500,  # paper uses 2000\n",
    "#     test_sanes_size=500,  # paper uses 2000\n",
    "#     modsec=modsec,\n",
    "#     rule_ids=rule_ids,\n",
    "#     paranoia_level=paranoia_level,\n",
    "# )\n",
    "# train.to_csv(\"data/train_5k.csv\", index=False)\n",
    "# test.to_csv(\"data/test_1k.csv\", index=False)\n",
    "\n",
    "# load the train and test sets from disk\n",
    "train = pd.read_csv(\"data/train_5k.csv\")\n",
    "test = pd.read_csv(\"data/test_1k.csv\")\n",
    "train['vector'] = train['vector'].apply(lambda x: np.fromstring(x[1:-1], sep=' '))\n",
    "test['vector'] = test['vector'].apply(lambda x: np.fromstring(x[1:-1], sep=' '))\n",
    "\n",
    "wafamole_model, threshold = create_model(\n",
    "    train=train,\n",
    "    test=test,\n",
    "    model=RandomForestClassifier(n_estimators=160, random_state=666),\n",
    "    desired_fpr=0.01,\n",
    "    modsec=modsec,\n",
    "    rule_ids=rule_ids,\n",
    "    paranoia_level=paranoia_level,\n",
    ")"
   ]
  },
  {
   "cell_type": "code",
   "execution_count": 10,
   "metadata": {},
   "outputs": [
    {
     "name": "stdout",
     "output_type": "stream",
     "text": [
      "Optimizing payloads...\n"
     ]
    },
    {
     "name": "stderr",
     "output_type": "stream",
     "text": [
      "  0%|          | 0/50 [00:00<?, ?it/s]"
     ]
    },
    {
     "name": "stderr",
     "output_type": "stream",
     "text": [
      "100%|██████████| 50/50 [06:03<00:00,  7.27s/it]\n",
      "100%|██████████| 50/50 [06:07<00:00,  7.36s/it]\n"
     ]
    },
    {
     "name": "stdout",
     "output_type": "stream",
     "text": [
      "Creating vectors...\n"
     ]
    },
    {
     "name": "stderr",
     "output_type": "stream",
     "text": [
      "Processing payloads: 100%|██████████| 50/50 [00:07<00:00,  6.97it/s]\n",
      "Processing payloads: 100%|██████████| 50/50 [00:06<00:00,  7.36it/s]\n"
     ]
    },
    {
     "name": "stdout",
     "output_type": "stream",
     "text": [
      "Model trained successfully!\n",
      "Evaluating model...\n",
      "Default threshold: 0.5\n",
      "              precision    recall  f1-score   support\n",
      "\n",
      "      attack       0.97      0.94      0.95       550\n",
      "        sane       0.93      0.97      0.95       500\n",
      "\n",
      "    accuracy                           0.95      1050\n",
      "   macro avg       0.95      0.95      0.95      1050\n",
      "weighted avg       0.95      0.95      0.95      1050\n",
      "\n",
      "Adjusted threshold: 0.80625\n",
      "              precision    recall  f1-score   support\n",
      "\n",
      "      attack       0.86      0.99      0.92       550\n",
      "        sane       0.99      0.83      0.90       500\n",
      "\n",
      "    accuracy                           0.91      1050\n",
      "   macro avg       0.92      0.91      0.91      1050\n",
      "weighted avg       0.92      0.91      0.91      1050\n",
      "\n"
     ]
    }
   ],
   "source": [
    "# adversarial training\n",
    "\n",
    "engine = EvasionEngine(wafamole_model)\n",
    "train_adv, test_adv = create_adv_train_test_split(\n",
    "    train=train,\n",
    "    test=test,\n",
    "    train_adv_size=50,\n",
    "    test_adv_size=50,\n",
    "    engine=engine,\n",
    "    engine_settings={\n",
    "        \"max_rounds\": 200,\n",
    "        \"round_size\": 10,\n",
    "        \"timeout\": 10,\n",
    "        \"threshold\": threshold,\n",
    "    },\n",
    "    modsec=modsec,\n",
    "    rule_ids=rule_ids,\n",
    "    paranoia_level=paranoia_level,\n",
    ")\n",
    "train_adv.to_csv(\"data/train_adv_50.csv\", index=False)\n",
    "test_adv.to_csv(\"data/test_adv_50.csv\", index=False)\n",
    "\n",
    "# train_adv = pd.read_csv(\"data/train_adv_50.csv\")\n",
    "# test_adv = pd.read_csv(\"data/test_adv_50.csv\")\n",
    "# train_adv['vector'] = train_adv['vector'].apply(lambda x: np.fromstring(x[1:-1], sep=' '))\n",
    "# test_adv['vector'] = test_adv['vector'].apply(lambda x: np.fromstring(x[1:-1], sep=' '))\n",
    "\n",
    "# train new model with train + train_adv\n",
    "wafamole_model_adv, threshold_adv = create_model(\n",
    "    train=pd.concat([train, train_adv]).sample(frac=1).reset_index(drop=True),\n",
    "    test=pd.concat([test, test_adv]).sample(frac=1).reset_index(drop=True),\n",
    "    model=RandomForestClassifier(n_estimators=160, random_state=666),\n",
    "    desired_fpr=0.01,\n",
    "    modsec=modsec,\n",
    "    rule_ids=rule_ids,\n",
    "    paranoia_level=paranoia_level,\n",
    ")"
   ]
  },
  {
   "cell_type": "code",
   "execution_count": 11,
   "metadata": {},
   "outputs": [
    {
     "name": "stdout",
     "output_type": "stream",
     "text": [
      "Payload: SELECT SLEEP(5)#\";\n",
      "Vec: [0 0 0 0 0 0 0 0 1 0 0 0 0 0 0 1 0 0 1 1 1 0 0 0 0 0 0 0 0 0 0 0 0 0 0 0 0\n",
      " 1 0 0 0 0 0 1 0 0 0 1 0 0 0 0 1 0 0 1 0 0 0 0 0 0 0 0 0 0 1 0 0]\n",
      "Confidence: 0.96247\n",
      "[!] Execution timed out\n",
      "Reached confidence 0.6761472509808204\n",
      "with payload\n",
      "sElect/*`a*/sLeEp((SELECT 5))  AND  0x1#\";\n",
      "\n",
      "Min payload: b'sElect/*`a*/sLeEp((SELECT 5))  AND  0x1#\";'\n",
      "Min confidence: 0.67615\n",
      "Reduced confidence from 0.96247 to 0.67615 (reduction of 0.28632)\n",
      "\n",
      "Evasion successful\n"
     ]
    }
   ],
   "source": [
    "# Test the model (without adversarial training)\n",
    "engine = EvasionEngine(wafamole_model)\n",
    "\n",
    "payload = 'SELECT SLEEP(5)#\";'  # attack\n",
    "\n",
    "payload_base64 = base64.b64encode(payload.encode(\"utf-8\")).decode(\"utf-8\")\n",
    "vec = payload_to_vec(payload_base64, rule_ids, modsec, paranoia_level)\n",
    "is_attack = wafamole_model.classify(payload)\n",
    "print(f\"Payload: {payload}\")\n",
    "print(f\"Vec: {vec}\")\n",
    "print(f\"Confidence: {round(is_attack, 5)}\")\n",
    "\n",
    "min_confidence, min_payload = engine.evaluate(\n",
    "    payload=payload,\n",
    "    max_rounds=200,\n",
    "    round_size=10,\n",
    "    timeout=60,\n",
    "    threshold=0.0,\n",
    ")\n",
    "print()\n",
    "print(f\"Min payload: {min_payload.encode('utf-8')}\")\n",
    "print(f\"Min confidence: {round(min_confidence, 5)}\")\n",
    "print(\n",
    "    f\"Reduced confidence from {round(is_attack, 5)} to {round(min_confidence, 5)} (reduction of {round(is_attack - min_confidence, 5)})\"\n",
    ")\n",
    "\n",
    "print(\"\\nEvasion successful\" if min_confidence < threshold else \"Evasion failed\")"
   ]
  },
  {
   "cell_type": "code",
   "execution_count": 13,
   "metadata": {},
   "outputs": [
    {
     "name": "stdout",
     "output_type": "stream",
     "text": [
      "Payload: SELECT SLEEP(5)#\";\n",
      "Vec: [0 0 0 0 0 0 0 0 1 0 0 0 0 0 0 1 0 0 1 1 1 0 0 0 0 0 0 0 0 0 0 0 0 0 0 0 0\n",
      " 1 0 0 0 0 0 1 0 0 0 1 0 0 0 0 1 0 0 1 0 0 0 0 0 0 0 0 0 0 1 0 0]\n",
      "Confidence: 0.97372\n",
      "[!] Execution timed out\n",
      "Reached confidence 0.6872175659600135\n",
      "with payload\n",
      "SEleCT\n",
      "Sleep((SelEct (SeLecT 0X5)))||0#\";0X5/Q+\n",
      "\n",
      "Min payload: b'SEleCT\\nSleep((SelEct (SeLecT 0X5)))||0#\";0X5/Q+'\n",
      "Min confidence: 0.68722\n",
      "Reduced confidence from 0.97372 to 0.68722 (reduction of 0.2865)\n",
      "\n",
      "Evasion successful\n"
     ]
    }
   ],
   "source": [
    "# Test the model (with adversarial training)\n",
    "engine_adv = EvasionEngine(wafamole_model_adv)\n",
    "\n",
    "payload = 'SELECT SLEEP(5)#\";'  # attack\n",
    "\n",
    "payload_base64 = base64.b64encode(payload.encode(\"utf-8\")).decode(\"utf-8\")\n",
    "vec = payload_to_vec(payload_base64, rule_ids, modsec, paranoia_level)\n",
    "is_attack = wafamole_model_adv.classify(payload)\n",
    "print(f\"Payload: {payload}\")\n",
    "print(f\"Vec: {vec}\")\n",
    "print(f\"Confidence: {round(is_attack, 5)}\")\n",
    "\n",
    "min_confidence, min_payload = engine_adv.evaluate(\n",
    "    payload=payload,\n",
    "    max_rounds=200,\n",
    "    round_size=10,\n",
    "    timeout=60,\n",
    "    threshold=0.0,\n",
    ")\n",
    "print()\n",
    "print(f\"Min payload: {min_payload.encode('utf-8')}\")\n",
    "print(f\"Min confidence: {round(min_confidence, 5)}\")\n",
    "print(\n",
    "    f\"Reduced confidence from {round(is_attack, 5)} to {round(min_confidence, 5)} (reduction of {round(is_attack - min_confidence, 5)})\"\n",
    ")\n",
    "\n",
    "print(\"\\nEvasion successful\" if min_confidence < threshold_adv else \"Evasion failed\")"
   ]
  }
 ],
 "metadata": {
  "kernelspec": {
   "display_name": "Python 3 (ipykernel)",
   "language": "python",
   "name": "python3"
  },
  "language_info": {
   "codemirror_mode": {
    "name": "ipython",
    "version": 3
   },
   "file_extension": ".py",
   "mimetype": "text/x-python",
   "name": "python",
   "nbconvert_exporter": "python",
   "pygments_lexer": "ipython3",
   "version": "3.8.18"
  }
 },
 "nbformat": 4,
 "nbformat_minor": 4
}
