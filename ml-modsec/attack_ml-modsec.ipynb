{
 "cells": [
  {
   "cell_type": "code",
   "execution_count": 1,
   "metadata": {},
   "outputs": [],
   "source": [
    "# Imports\n",
    "import pandas as pd  # type: ignore\n",
    "import numpy as np  # type: ignore\n",
    "import base64\n",
    "from utils import (\n",
    "    get_rules_list,\n",
    "    create_train_test_split,\n",
    "    create_model,\n",
    "    payload_to_vec,\n",
    "    create_adv_train_test_split,\n",
    "    test_evasion,\n",
    ")\n",
    "from modsec import init_modsec\n",
    "\n",
    "from sklearn.ensemble import RandomForestClassifier  # type: ignore\n",
    "from wafamole.evasion import EvasionEngine  # type: ignore"
   ]
  },
  {
   "cell_type": "code",
   "execution_count": 2,
   "metadata": {},
   "outputs": [],
   "source": [
    "# Set up variables\n",
    "\n",
    "attack_data_path = \"data/attacks_full.sql\"\n",
    "sane_data_path = \"data/sanes_full.sql\"\n",
    "\n",
    "rule_ids = get_rules_list()\n",
    "modsec = init_modsec()"
   ]
  },
  {
   "cell_type": "code",
   "execution_count": 3,
   "metadata": {},
   "outputs": [
    {
     "name": "stdout",
     "output_type": "stream",
     "text": [
      "Model trained successfully!\n",
      "Evaluating model...\n",
      "Default threshold: 0.5\n",
      "              precision    recall  f1-score   support\n",
      "\n",
      "      attack       0.97      0.94      0.95       500\n",
      "        sane       0.94      0.97      0.95       500\n",
      "\n",
      "    accuracy                           0.95      1000\n",
      "   macro avg       0.95      0.95      0.95      1000\n",
      "weighted avg       0.95      0.95      0.95      1000\n",
      "\n",
      "Adjusted threshold: 0.8027458911979671\n",
      "              precision    recall  f1-score   support\n",
      "\n",
      "      attack       0.85      0.99      0.92       500\n",
      "        sane       0.99      0.83      0.90       500\n",
      "\n",
      "    accuracy                           0.91      1000\n",
      "   macro avg       0.92      0.91      0.91      1000\n",
      "weighted avg       0.92      0.91      0.91      1000\n",
      "\n"
     ]
    }
   ],
   "source": [
    "# Create train and test sets and train model\n",
    "\n",
    "paranoia_level = 4\n",
    "\n",
    "train, test = create_train_test_split(\n",
    "    attack_file=attack_data_path,\n",
    "    sane_file=sane_data_path,\n",
    "    train_attacks_size=5000,  # paper uses 10000\n",
    "    train_sanes_size=5000,  # paper uses 10000\n",
    "    test_attacks_size=1000,  # paper uses 2000\n",
    "    test_sanes_size=1000,  # paper uses 2000\n",
    "    modsec=modsec,\n",
    "    rule_ids=rule_ids,\n",
    "    paranoia_level=paranoia_level,\n",
    ")\n",
    "train.to_csv(\"data/train_5k.csv\", index=False)\n",
    "test.to_csv(\"data/test_1k.csv\", index=False)\n",
    "\n",
    "# # load the train and test sets from disk\n",
    "# train = pd.read_csv(\"data/train_5k.csv\")\n",
    "# test = pd.read_csv(\"data/test_1k.csv\")\n",
    "# train['vector'] = train['vector'].apply(lambda x: np.fromstring(x[1:-1], sep=' '))\n",
    "# test['vector'] = test['vector'].apply(lambda x: np.fromstring(x[1:-1], sep=' '))\n",
    "\n",
    "wafamole_model, threshold = create_model(\n",
    "    train=train,\n",
    "    test=test,\n",
    "    model=RandomForestClassifier(n_estimators=160, random_state=666),\n",
    "    desired_fpr=0.01,\n",
    "    modsec=modsec,\n",
    "    rule_ids=rule_ids,\n",
    "    paranoia_level=paranoia_level,\n",
    ")"
   ]
  },
  {
   "cell_type": "code",
   "execution_count": 4,
   "metadata": {},
   "outputs": [
    {
     "name": "stdout",
     "output_type": "stream",
     "text": [
      "Model trained successfully!\n",
      "Evaluating model...\n",
      "Default threshold: 0.5\n",
      "              precision    recall  f1-score   support\n",
      "\n",
      "      attack       0.97      0.94      0.96       550\n",
      "        sane       0.94      0.97      0.95       500\n",
      "\n",
      "    accuracy                           0.95      1050\n",
      "   macro avg       0.95      0.95      0.95      1050\n",
      "weighted avg       0.95      0.95      0.95      1050\n",
      "\n",
      "Adjusted threshold: 0.8192005703746961\n",
      "              precision    recall  f1-score   support\n",
      "\n",
      "      attack       0.86      0.99      0.92       550\n",
      "        sane       0.99      0.83      0.90       500\n",
      "\n",
      "    accuracy                           0.91      1050\n",
      "   macro avg       0.93      0.91      0.91      1050\n",
      "weighted avg       0.92      0.91      0.91      1050\n",
      "\n"
     ]
    }
   ],
   "source": [
    "# adversarial training\n",
    "\n",
    "engine = EvasionEngine(wafamole_model)\n",
    "train_adv, test_adv = create_adv_train_test_split(\n",
    "    train=train,\n",
    "    test=test,\n",
    "    train_adv_size=250, # paper uses 5000 (1/4 of total train set size)\n",
    "    test_adv_size=100, # paper uses 2000 (1/2 of total test set size)\n",
    "    engine=engine,\n",
    "    engine_settings={\n",
    "        \"max_rounds\": 200,\n",
    "        \"round_size\": 10,\n",
    "        \"timeout\": 10,\n",
    "        \"threshold\": threshold,\n",
    "    },\n",
    "    modsec=modsec,\n",
    "    rule_ids=rule_ids,\n",
    "    paranoia_level=paranoia_level,\n",
    ")\n",
    "train_adv.to_csv(\"data/train_adv_50.csv\", index=False)\n",
    "test_adv.to_csv(\"data/test_adv_50.csv\", index=False)\n",
    "\n",
    "# # load the train_adv and test_adv sets from disk\n",
    "# train_adv = pd.read_csv(\"data/train_adv_50.csv\")\n",
    "# test_adv = pd.read_csv(\"data/test_adv_50.csv\")\n",
    "# train_adv['vector'] = train_adv['vector'].apply(lambda x: np.fromstring(x[1:-1], sep=' '))\n",
    "# test_adv['vector'] = test_adv['vector'].apply(lambda x: np.fromstring(x[1:-1], sep=' '))\n",
    "\n",
    "# train new model with train + train_adv\n",
    "wafamole_model_adv, threshold_adv = create_model(\n",
    "    train=pd.concat([train, train_adv]).sample(frac=1).reset_index(drop=True),\n",
    "    test=pd.concat([test, test_adv]).sample(frac=1).reset_index(drop=True),\n",
    "    model=RandomForestClassifier(n_estimators=160, random_state=666),\n",
    "    desired_fpr=0.01,\n",
    "    modsec=modsec,\n",
    "    rule_ids=rule_ids,\n",
    "    paranoia_level=paranoia_level,\n",
    ")"
   ]
  },
  {
   "cell_type": "code",
   "execution_count": 5,
   "metadata": {},
   "outputs": [
    {
     "name": "stdout",
     "output_type": "stream",
     "text": [
      "Payload: SELECT SLEEP(5)#\";\n",
      "Vec: [0 0 0 0 0 0 0 0 1 0 0 0 0 0 0 1 0 0 1 1 1 0 0 0 0 0 0 0 0 0 0 0 0 0 0 0 0\n",
      " 1 0 0 0 0 0 1 0 0 0 1 0 0 0 0 1 0 0 1 0 0 0 0 0 0 0 0 0 0 1 0 0]\n",
      "Confidence: 0.96247\n",
      "[!] Max number of iterations reached\n",
      "Reached confidence 0.6410169402648634\n",
      "with payload\n",
      "sElEcT\fsleEP(0x5) OR/*!*/0x2542 NOT  LIKE  0x2542 || False#\";vE\n",
      "\n",
      "Min payload: b'sElEcT\\x0csleEP(0x5) OR/*!*/0x2542 NOT  LIKE  0x2542 || False#\";vE'\n",
      "Min confidence: 0.64102\n",
      "Reduced confidence from 0.96247 to 0.64102 (reduction of 0.32145)\n",
      "\n",
      "Evasion successful\n"
     ]
    }
   ],
   "source": [
    "# Test the model (without adversarial training)\n",
    "test_evasion(\n",
    "    payload='SELECT SLEEP(5)#\";',\n",
    "    threshold=threshold,\n",
    "    model=wafamole_model,\n",
    "    engine=EvasionEngine(wafamole_model),\n",
    "    engine_eval_settings={\n",
    "        \"max_rounds\": 200,\n",
    "        \"round_size\": 10,\n",
    "        \"timeout\": 60,\n",
    "        \"threshold\": 0.0,\n",
    "    },\n",
    "    modsec=modsec,\n",
    "    rule_ids=rule_ids,\n",
    "    paranoia_level=paranoia_level,\n",
    ")"
   ]
  },
  {
   "cell_type": "code",
   "execution_count": 7,
   "metadata": {},
   "outputs": [
    {
     "name": "stdout",
     "output_type": "stream",
     "text": [
      "Payload: SELECT SLEEP(5)#\";\n",
      "Vec: [0 0 0 0 0 0 0 0 1 0 0 0 0 0 0 1 0 0 1 1 1 0 0 0 0 0 0 0 0 0 0 0 0 0 0 0 0\n",
      " 1 0 0 0 0 0 1 0 0 0 1 0 0 0 0 1 0 0 1 0 0 0 0 0 0 0 0 0 0 1 0 0]\n",
      "Confidence: 0.98125\n",
      "[!] Max number of iterations reached\n",
      "Reached confidence 0.7767581862544739\n",
      "with payload\n",
      "SeleCt SlEEp(0X5)\n",
      "Or/**/1605 NoT  LiKe  0x645 || (SELECT 8659)   NOT LIKE   8659#\";\n",
      "\n",
      "Min payload: b'SeleCt SlEEp(0X5)\\nOr/**/1605 NoT  LiKe  0x645 || (SELECT 8659)   NOT LIKE   8659#\";'\n",
      "Min confidence: 0.77676\n",
      "Reduced confidence from 0.98125 to 0.77676 (reduction of 0.20449)\n",
      "\n",
      "Evasion successful\n"
     ]
    },
    {
     "ename": "",
     "evalue": "",
     "output_type": "error",
     "traceback": [
      "\u001b[1;31mThe Kernel crashed while executing code in the current cell or a previous cell. \n",
      "\u001b[1;31mPlease review the code in the cell(s) to identify a possible cause of the failure. \n",
      "\u001b[1;31mClick <a href='https://aka.ms/vscodeJupyterKernelCrash'>here</a> for more info. \n",
      "\u001b[1;31mView Jupyter <a href='command:jupyter.viewOutput'>log</a> for further details."
     ]
    }
   ],
   "source": [
    "# Test the model (with adversarial training)\n",
    "test_evasion(\n",
    "    payload='SELECT SLEEP(5)#\";',\n",
    "    threshold=threshold,\n",
    "    model=wafamole_model_adv,\n",
    "    engine=EvasionEngine(wafamole_model_adv),\n",
    "    engine_eval_settings={\n",
    "        \"max_rounds\": 200,\n",
    "        \"round_size\": 10,\n",
    "        \"timeout\": 60,\n",
    "        \"threshold\": 0.0,\n",
    "    },\n",
    "    modsec=modsec,\n",
    "    rule_ids=rule_ids,\n",
    "    paranoia_level=paranoia_level,\n",
    ")"
   ]
  }
 ],
 "metadata": {
  "kernelspec": {
   "display_name": "Python 3 (ipykernel)",
   "language": "python",
   "name": "python3"
  },
  "language_info": {
   "codemirror_mode": {
    "name": "ipython",
    "version": 3
   },
   "file_extension": ".py",
   "mimetype": "text/x-python",
   "name": "python",
   "nbconvert_exporter": "python",
   "pygments_lexer": "ipython3",
   "version": "3.8.18"
  }
 },
 "nbformat": 4,
 "nbformat_minor": 4
}
