{
 "cells": [
  {
   "cell_type": "code",
   "execution_count": 1,
   "metadata": {},
   "outputs": [],
   "source": [
    "# Imports\n",
    "\n",
    "import base64\n",
    "import pandas as pd\n",
    "from utils import get_rules_list, predict_payload, create_train_test_split\n",
    "from rf_classifier import generate_rf_model\n",
    "from modsec import init_modsec\n"
   ]
  },
  {
   "cell_type": "code",
   "execution_count": 2,
   "metadata": {},
   "outputs": [],
   "source": [
    "# Set up variables\n",
    "\n",
    "# TODO: handle large files\n",
    "attack_data_path = \"data/attacks_20k.sql\"\n",
    "sane_data_path = \"data/sanes_20k.sql\"\n",
    "\n",
    "rule_ids = get_rules_list()\n",
    "modsec = init_modsec()"
   ]
  },
  {
   "cell_type": "code",
   "execution_count": 3,
   "metadata": {},
   "outputs": [
    {
     "name": "stdout",
     "output_type": "stream",
     "text": [
      "Reading and parsing data...\n",
      "Full data shape: (13504, 2)\n",
      "Splitting into train and test...\n",
      "Creating vectors...\n"
     ]
    },
    {
     "name": "stderr",
     "output_type": "stream",
     "text": [
      "Processing payloads: 100%|██████████| 5000/5000 [01:33<00:00, 53.32it/s]\n",
      "Processing payloads: 100%|██████████| 1000/1000 [00:39<00:00, 25.55it/s]"
     ]
    },
    {
     "name": "stdout",
     "output_type": "stream",
     "text": [
      "Done!\n",
      "Train shape: (5000, 3) | Test shape: (1000, 3)\n"
     ]
    },
    {
     "name": "stderr",
     "output_type": "stream",
     "text": [
      "\n"
     ]
    }
   ],
   "source": [
    "# Create train and test datasets OR load them from disk\n",
    "\n",
    "train, test = create_train_test_split(\n",
    "    attack_file=attack_data_path,\n",
    "    sane_file=sane_data_path,\n",
    "    train_size=5000,\n",
    "    test_size=1000,\n",
    "    modsec=modsec,\n",
    "    rule_ids=rule_ids,\n",
    ")"
   ]
  },
  {
   "cell_type": "code",
   "execution_count": 10,
   "metadata": {},
   "outputs": [
    {
     "name": "stdout",
     "output_type": "stream",
     "text": [
      "Model trained successfully!\n",
      "              precision    recall  f1-score   support\n",
      "\n",
      "      attack       0.97      0.95      0.96       516\n",
      "        sane       0.94      0.97      0.96       484\n",
      "\n",
      "    accuracy                           0.96      1000\n",
      "   macro avg       0.96      0.96      0.96      1000\n",
      "weighted avg       0.96      0.96      0.96      1000\n",
      "\n"
     ]
    }
   ],
   "source": [
    "# Create a RF model\n",
    "\n",
    "model = generate_rf_model(train_data=train, test_data=test)"
   ]
  },
  {
   "cell_type": "code",
   "execution_count": 12,
   "metadata": {},
   "outputs": [
    {
     "name": "stdout",
     "output_type": "stream",
     "text": [
      "Payload: UPDATE `tab` SET `col1` = 1 WHERE `col3` >= 1110573056 LIMIT 516358144;\n",
      "Is attack confidence: 0.0\n"
     ]
    }
   ],
   "source": [
    "# Test payload\n",
    "\n",
    "payload = \"UPDATE `tab` SET `col1` = 1 WHERE `col3` >= 1110573056 LIMIT 516358144;\" # sane\n",
    "# payload = \"SELECT `col1` FROM `tab` WHERE `col1` LIKE '%'s'%';\" # attack\n",
    "payload_base64 = base64.b64encode(payload.encode(\"utf-8\")).decode(\"utf-8\")\n",
    "is_attack = predict_payload(\n",
    "    payload_base64=payload_base64,\n",
    "    model=model,\n",
    "    rule_ids=rule_ids,\n",
    "    modsec=modsec,\n",
    ")\n",
    "print(f\"Payload: {payload}\")\n",
    "print(f\"Is attack confidence: {round(is_attack, 5)}\")"
   ]
  }
 ],
 "metadata": {
  "kernelspec": {
   "display_name": "Python 3 (ipykernel)",
   "language": "python",
   "name": "python3"
  }
 },
 "nbformat": 4,
 "nbformat_minor": 4
}
