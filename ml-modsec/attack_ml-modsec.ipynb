{
 "cells": [
  {
   "cell_type": "code",
   "execution_count": null,
   "metadata": {},
   "outputs": [],
   "source": [
    "# Imports\n",
    "\n",
    "import base64\n",
    "from utils import (\n",
    "    get_rules_list,\n",
    "    create_train_test_split,\n",
    "    create_model,\n",
    "    payload_to_vec,\n",
    "    predict_vec,\n",
    ")\n",
    "from modsec import init_modsec\n",
    "\n",
    "from sklearn.ensemble import RandomForestClassifier  # type: ignore\n",
    "from wafamole.evasion import EvasionEngine  # type: ignore"
   ]
  },
  {
   "cell_type": "code",
   "execution_count": null,
   "metadata": {},
   "outputs": [],
   "source": [
    "# Set up variables\n",
    "\n",
    "# TODO: handle large files\n",
    "attack_data_path = \"data/attacks_20k.sql\"\n",
    "sane_data_path = \"data/sanes_20k.sql\"\n",
    "\n",
    "rule_ids = get_rules_list()\n",
    "modsec = init_modsec()"
   ]
  },
  {
   "cell_type": "code",
   "execution_count": null,
   "metadata": {},
   "outputs": [],
   "source": [
    "# Create train and test datasets OR load them from disk\n",
    "\n",
    "train, test = create_train_test_split(\n",
    "    attack_file=attack_data_path,\n",
    "    sane_file=sane_data_path,\n",
    "    train_size=5000,\n",
    "    test_size=1000,\n",
    "    modsec=modsec,\n",
    "    rule_ids=rule_ids,\n",
    ")"
   ]
  },
  {
   "cell_type": "code",
   "execution_count": null,
   "metadata": {},
   "outputs": [],
   "source": [
    "# Create + Train + Eval a RF model\n",
    "\n",
    "wafamole_model, threshold = create_model(\n",
    "    train=train,\n",
    "    test=test,\n",
    "    model=RandomForestClassifier(n_estimators=160, random_state=666),\n",
    "    desired_fpr=0.01,\n",
    "    modsec=modsec,\n",
    "    rule_ids=rule_ids,\n",
    ")"
   ]
  },
  {
   "cell_type": "code",
   "execution_count": null,
   "metadata": {},
   "outputs": [],
   "source": [
    "engine = EvasionEngine(wafamole_model)\n",
    "# payload = \"UPDATE `tab` SET `col1` = 1 WHERE `col3` >= 1110573056 LIMIT 516358144;\" # sane\n",
    "# payload = \"SELECT `col1` FROM `tab` WHERE `col1` LIKE '%'s'%';\" # attack\n",
    "payload = 'SELECT SLEEP(5)#\";'  # attack\n",
    "\n",
    "\n",
    "# Test payload without evasion\n",
    "payload_base64 = base64.b64encode(payload.encode(\"utf-8\")).decode(\"utf-8\")\n",
    "vec = payload_to_vec(payload_base64, rule_ids, modsec)\n",
    "is_attack = wafamole_model.classify(payload)\n",
    "print(f\"Payload: {payload}\")\n",
    "print(f\"Vec: {vec}\")\n",
    "print(f\"Confidence: {round(is_attack, 5)}\")"
   ]
  },
  {
   "cell_type": "code",
   "execution_count": null,
   "metadata": {},
   "outputs": [],
   "source": [
    "# Try and evade the WAF with WAFamole\n",
    "\n",
    "# TODO: decide if we want to just evade (reach threshold) or if we want to minimize confidence until convergence\n",
    "# Probably the latter, but we need to decide on a stopping criterion (time out probably)\n",
    "min_confidence, min_payload = engine.evaluate(\n",
    "    payload=payload,\n",
    "    max_rounds=200,\n",
    "    round_size=10,\n",
    "    timeout=120,\n",
    "    threshold=threshold,\n",
    ")\n",
    "print()\n",
    "print(f\"Min payload: {min_payload.encode('utf-8')}\")\n",
    "print(f\"Min confidence: {round(min_confidence, 5)}\")\n",
    "print()\n",
    "print(\n",
    "    f\"Reduced confidence from {round(is_attack, 5)} to {round(min_confidence, 5)} (reduction of {round(is_attack - min_confidence, 5)})\"\n",
    ")\n",
    "\n",
    "print(\"Evasion successful\" if min_confidence < threshold else \"Evasion failed\")"
   ]
  }
 ],
 "metadata": {
  "kernelspec": {
   "display_name": "Python 3 (ipykernel)",
   "language": "python",
   "name": "python3"
  },
  "language_info": {
   "codemirror_mode": {
    "name": "ipython",
    "version": 3
   },
   "file_extension": ".py",
   "mimetype": "text/x-python",
   "name": "python",
   "nbconvert_exporter": "python",
   "pygments_lexer": "ipython3",
   "version": "3.8.18"
  }
 },
 "nbformat": 4,
 "nbformat_minor": 4
}
